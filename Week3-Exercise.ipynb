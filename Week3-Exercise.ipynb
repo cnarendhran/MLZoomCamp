{
 "cells": [
  {
   "cell_type": "markdown",
   "id": "0501c2e8-4a30-4802-9507-156e2da81f94",
   "metadata": {},
   "source": [
    "## 3.15 Homework\n",
    "\n",
    "### Dataset\n",
    "\n",
    "In this homework, we will continue the New York City Airbnb Open Data. You can take it from\n",
    "[Kaggle](https://www.kaggle.com/dgomonov/new-york-city-airbnb-open-data?select=AB_NYC_2019.csv)\n",
    "or download from [here](https://raw.githubusercontent.com/alexeygrigorev/datasets/master/AB_NYC_2019.csv)\n",
    "if you don't want to sign up to Kaggle.\n",
    "\n",
    "We'll keep working with the `'price'` variable, and we'll transform it to a classification task."
   ]
  },
  {
   "cell_type": "code",
   "execution_count": 1,
   "id": "f6da79ef-c30e-4543-bd00-2cf247ef80a1",
   "metadata": {},
   "outputs": [],
   "source": [
    "import pandas as pd\n",
    "import numpy as np\n",
    "import seaborn as sn\n",
    "import matplotlib.pyplot as plt"
   ]
  },
  {
   "cell_type": "code",
   "execution_count": 2,
   "id": "882516ba-daeb-4a0b-acbb-e5ea0a213423",
   "metadata": {},
   "outputs": [],
   "source": [
    "data =r'https://raw.githubusercontent.com/alexeygrigorev/datasets/master/AB_NYC_2019.csv'"
   ]
  },
  {
   "cell_type": "code",
   "execution_count": 3,
   "id": "09ab4319-6f0e-4b91-b2fa-b2fc3f4c2bc3",
   "metadata": {},
   "outputs": [],
   "source": [
    "df=pd.read_csv(data)"
   ]
  },
  {
   "cell_type": "code",
   "execution_count": 4,
   "id": "7dd78a39-6972-45b8-b547-2378b7d3f4bb",
   "metadata": {},
   "outputs": [
    {
     "name": "stdout",
     "output_type": "stream",
     "text": [
      "<class 'pandas.core.frame.DataFrame'>\n",
      "RangeIndex: 48895 entries, 0 to 48894\n",
      "Data columns (total 16 columns):\n",
      " #   Column                          Non-Null Count  Dtype  \n",
      "---  ------                          --------------  -----  \n",
      " 0   id                              48895 non-null  int64  \n",
      " 1   name                            48879 non-null  object \n",
      " 2   host_id                         48895 non-null  int64  \n",
      " 3   host_name                       48874 non-null  object \n",
      " 4   neighbourhood_group             48895 non-null  object \n",
      " 5   neighbourhood                   48895 non-null  object \n",
      " 6   latitude                        48895 non-null  float64\n",
      " 7   longitude                       48895 non-null  float64\n",
      " 8   room_type                       48895 non-null  object \n",
      " 9   price                           48895 non-null  int64  \n",
      " 10  minimum_nights                  48895 non-null  int64  \n",
      " 11  number_of_reviews               48895 non-null  int64  \n",
      " 12  last_review                     38843 non-null  object \n",
      " 13  reviews_per_month               38843 non-null  float64\n",
      " 14  calculated_host_listings_count  48895 non-null  int64  \n",
      " 15  availability_365                48895 non-null  int64  \n",
      "dtypes: float64(3), int64(7), object(6)\n",
      "memory usage: 6.0+ MB\n"
     ]
    }
   ],
   "source": [
    "df.shape\n",
    "df.info()"
   ]
  },
  {
   "cell_type": "code",
   "execution_count": 5,
   "id": "21df4d3f-17c0-4ca1-9705-e8e4aabe00b9",
   "metadata": {},
   "outputs": [],
   "source": [
    "df.columns= df.columns.str.lower().str.replace(' ','_')\n",
    "cat_cols = list(df.dtypes[df.dtypes=='object'].index)\n",
    "for ix in cat_cols:\n",
    "    df[ix]= df[ix].str.lower().str.replace(' ','_')"
   ]
  },
  {
   "cell_type": "code",
   "execution_count": 6,
   "id": "4b2be3e9-9e7a-498c-a680-9f8428949e5b",
   "metadata": {},
   "outputs": [
    {
     "data": {
      "text/plain": [
       "Index(['id', 'name', 'host_id', 'host_name', 'neighbourhood_group',\n",
       "       'neighbourhood', 'latitude', 'longitude', 'room_type', 'price',\n",
       "       'minimum_nights', 'number_of_reviews', 'last_review',\n",
       "       'reviews_per_month', 'calculated_host_listings_count',\n",
       "       'availability_365'],\n",
       "      dtype='object')"
      ]
     },
     "execution_count": 6,
     "metadata": {},
     "output_type": "execute_result"
    }
   ],
   "source": [
    "df.columns"
   ]
  },
  {
   "cell_type": "markdown",
   "id": "70e9a52c-5a43-4ea8-82d4-de0bff2322c1",
   "metadata": {},
   "source": [
    "### Features\n",
    "\n",
    "For the rest of the homework, you'll need to use the features from the previous homework with additional two `'neighbourhood_group'` and `'room_type'`. So the whole feature set will be set as follows:\n",
    "\n",
    "* `'neighbourhood_group'`,\n",
    "* `'room_type'`,\n",
    "* `'latitude'`,\n",
    "* `'longitude'`,\n",
    "* `'price'`,\n",
    "* `'minimum_nights'`,\n",
    "* `'number_of_reviews'`,\n",
    "* `'reviews_per_month'`,\n",
    "* `'calculated_host_listings_count'`,\n",
    "* `'availability_365'`\n",
    "\n",
    "Select only them and fill in the missing values with 0."
   ]
  },
  {
   "cell_type": "code",
   "execution_count": 7,
   "id": "a394e7b3-5f90-47d0-a574-168dda17c78a",
   "metadata": {},
   "outputs": [],
   "source": [
    "df = df.fillna(0)"
   ]
  },
  {
   "cell_type": "code",
   "execution_count": 8,
   "id": "fa92a5e5-5fd8-40fe-9244-daff1925ea09",
   "metadata": {},
   "outputs": [
    {
     "data": {
      "text/plain": [
       "id                                0\n",
       "name                              0\n",
       "host_id                           0\n",
       "host_name                         0\n",
       "neighbourhood_group               0\n",
       "neighbourhood                     0\n",
       "latitude                          0\n",
       "longitude                         0\n",
       "room_type                         0\n",
       "price                             0\n",
       "minimum_nights                    0\n",
       "number_of_reviews                 0\n",
       "last_review                       0\n",
       "reviews_per_month                 0\n",
       "calculated_host_listings_count    0\n",
       "availability_365                  0\n",
       "dtype: int64"
      ]
     },
     "execution_count": 8,
     "metadata": {},
     "output_type": "execute_result"
    }
   ],
   "source": [
    "df.isnull().sum()"
   ]
  },
  {
   "cell_type": "code",
   "execution_count": 9,
   "id": "3de4af9f-1b73-444b-9c0f-c6fb538db5e1",
   "metadata": {},
   "outputs": [],
   "source": [
    "features = ['neighbourhood_group','room_type','latitude','longitude','price','minimum_nights','number_of_reviews','reviews_per_month',\n",
    "            'calculated_host_listings_count','availability_365']\n",
    "df = df[features]"
   ]
  },
  {
   "cell_type": "code",
   "execution_count": 10,
   "id": "95b1494e-bbc5-4137-ba67-7494ab15df2c",
   "metadata": {},
   "outputs": [
    {
     "data": {
      "text/html": [
       "<div>\n",
       "<style scoped>\n",
       "    .dataframe tbody tr th:only-of-type {\n",
       "        vertical-align: middle;\n",
       "    }\n",
       "\n",
       "    .dataframe tbody tr th {\n",
       "        vertical-align: top;\n",
       "    }\n",
       "\n",
       "    .dataframe thead th {\n",
       "        text-align: right;\n",
       "    }\n",
       "</style>\n",
       "<table border=\"1\" class=\"dataframe\">\n",
       "  <thead>\n",
       "    <tr style=\"text-align: right;\">\n",
       "      <th></th>\n",
       "      <th>0</th>\n",
       "      <th>1</th>\n",
       "      <th>2</th>\n",
       "      <th>3</th>\n",
       "    </tr>\n",
       "  </thead>\n",
       "  <tbody>\n",
       "    <tr>\n",
       "      <th>neighbourhood_group</th>\n",
       "      <td>brooklyn</td>\n",
       "      <td>manhattan</td>\n",
       "      <td>manhattan</td>\n",
       "      <td>brooklyn</td>\n",
       "    </tr>\n",
       "    <tr>\n",
       "      <th>room_type</th>\n",
       "      <td>private_room</td>\n",
       "      <td>entire_home/apt</td>\n",
       "      <td>private_room</td>\n",
       "      <td>entire_home/apt</td>\n",
       "    </tr>\n",
       "    <tr>\n",
       "      <th>latitude</th>\n",
       "      <td>40.64749</td>\n",
       "      <td>40.75362</td>\n",
       "      <td>40.80902</td>\n",
       "      <td>40.68514</td>\n",
       "    </tr>\n",
       "    <tr>\n",
       "      <th>longitude</th>\n",
       "      <td>-73.97237</td>\n",
       "      <td>-73.98377</td>\n",
       "      <td>-73.9419</td>\n",
       "      <td>-73.95976</td>\n",
       "    </tr>\n",
       "    <tr>\n",
       "      <th>price</th>\n",
       "      <td>149</td>\n",
       "      <td>225</td>\n",
       "      <td>150</td>\n",
       "      <td>89</td>\n",
       "    </tr>\n",
       "    <tr>\n",
       "      <th>minimum_nights</th>\n",
       "      <td>1</td>\n",
       "      <td>1</td>\n",
       "      <td>3</td>\n",
       "      <td>1</td>\n",
       "    </tr>\n",
       "    <tr>\n",
       "      <th>number_of_reviews</th>\n",
       "      <td>9</td>\n",
       "      <td>45</td>\n",
       "      <td>0</td>\n",
       "      <td>270</td>\n",
       "    </tr>\n",
       "    <tr>\n",
       "      <th>reviews_per_month</th>\n",
       "      <td>0.21</td>\n",
       "      <td>0.38</td>\n",
       "      <td>0.0</td>\n",
       "      <td>4.64</td>\n",
       "    </tr>\n",
       "    <tr>\n",
       "      <th>calculated_host_listings_count</th>\n",
       "      <td>6</td>\n",
       "      <td>2</td>\n",
       "      <td>1</td>\n",
       "      <td>1</td>\n",
       "    </tr>\n",
       "    <tr>\n",
       "      <th>availability_365</th>\n",
       "      <td>365</td>\n",
       "      <td>355</td>\n",
       "      <td>365</td>\n",
       "      <td>194</td>\n",
       "    </tr>\n",
       "  </tbody>\n",
       "</table>\n",
       "</div>"
      ],
      "text/plain": [
       "                                           0                1             2  \\\n",
       "neighbourhood_group                 brooklyn        manhattan     manhattan   \n",
       "room_type                       private_room  entire_home/apt  private_room   \n",
       "latitude                            40.64749         40.75362      40.80902   \n",
       "longitude                          -73.97237        -73.98377      -73.9419   \n",
       "price                                    149              225           150   \n",
       "minimum_nights                             1                1             3   \n",
       "number_of_reviews                          9               45             0   \n",
       "reviews_per_month                       0.21             0.38           0.0   \n",
       "calculated_host_listings_count             6                2             1   \n",
       "availability_365                         365              355           365   \n",
       "\n",
       "                                              3  \n",
       "neighbourhood_group                    brooklyn  \n",
       "room_type                       entire_home/apt  \n",
       "latitude                               40.68514  \n",
       "longitude                             -73.95976  \n",
       "price                                        89  \n",
       "minimum_nights                                1  \n",
       "number_of_reviews                           270  \n",
       "reviews_per_month                          4.64  \n",
       "calculated_host_listings_count                1  \n",
       "availability_365                            194  "
      ]
     },
     "execution_count": 10,
     "metadata": {},
     "output_type": "execute_result"
    }
   ],
   "source": [
    "df.head(4).T"
   ]
  },
  {
   "cell_type": "code",
   "execution_count": 11,
   "id": "d069faa7-3d1a-4eaa-a303-caff1f98c52a",
   "metadata": {},
   "outputs": [
    {
     "data": {
      "text/html": [
       "<div>\n",
       "<style scoped>\n",
       "    .dataframe tbody tr th:only-of-type {\n",
       "        vertical-align: middle;\n",
       "    }\n",
       "\n",
       "    .dataframe tbody tr th {\n",
       "        vertical-align: top;\n",
       "    }\n",
       "\n",
       "    .dataframe thead th {\n",
       "        text-align: right;\n",
       "    }\n",
       "</style>\n",
       "<table border=\"1\" class=\"dataframe\">\n",
       "  <thead>\n",
       "    <tr style=\"text-align: right;\">\n",
       "      <th></th>\n",
       "      <th>room_type</th>\n",
       "      <th>latitude</th>\n",
       "      <th>longitude</th>\n",
       "      <th>price</th>\n",
       "      <th>minimum_nights</th>\n",
       "      <th>number_of_reviews</th>\n",
       "      <th>reviews_per_month</th>\n",
       "      <th>calculated_host_listings_count</th>\n",
       "      <th>availability_365</th>\n",
       "    </tr>\n",
       "    <tr>\n",
       "      <th>neighbourhood_group</th>\n",
       "      <th></th>\n",
       "      <th></th>\n",
       "      <th></th>\n",
       "      <th></th>\n",
       "      <th></th>\n",
       "      <th></th>\n",
       "      <th></th>\n",
       "      <th></th>\n",
       "      <th></th>\n",
       "    </tr>\n",
       "  </thead>\n",
       "  <tbody>\n",
       "    <tr>\n",
       "      <th>bronx</th>\n",
       "      <td>1091</td>\n",
       "      <td>1091</td>\n",
       "      <td>1091</td>\n",
       "      <td>1091</td>\n",
       "      <td>1091</td>\n",
       "      <td>1091</td>\n",
       "      <td>1091</td>\n",
       "      <td>1091</td>\n",
       "      <td>1091</td>\n",
       "    </tr>\n",
       "    <tr>\n",
       "      <th>brooklyn</th>\n",
       "      <td>20104</td>\n",
       "      <td>20104</td>\n",
       "      <td>20104</td>\n",
       "      <td>20104</td>\n",
       "      <td>20104</td>\n",
       "      <td>20104</td>\n",
       "      <td>20104</td>\n",
       "      <td>20104</td>\n",
       "      <td>20104</td>\n",
       "    </tr>\n",
       "    <tr>\n",
       "      <th>manhattan</th>\n",
       "      <td>21661</td>\n",
       "      <td>21661</td>\n",
       "      <td>21661</td>\n",
       "      <td>21661</td>\n",
       "      <td>21661</td>\n",
       "      <td>21661</td>\n",
       "      <td>21661</td>\n",
       "      <td>21661</td>\n",
       "      <td>21661</td>\n",
       "    </tr>\n",
       "    <tr>\n",
       "      <th>queens</th>\n",
       "      <td>5666</td>\n",
       "      <td>5666</td>\n",
       "      <td>5666</td>\n",
       "      <td>5666</td>\n",
       "      <td>5666</td>\n",
       "      <td>5666</td>\n",
       "      <td>5666</td>\n",
       "      <td>5666</td>\n",
       "      <td>5666</td>\n",
       "    </tr>\n",
       "    <tr>\n",
       "      <th>staten_island</th>\n",
       "      <td>373</td>\n",
       "      <td>373</td>\n",
       "      <td>373</td>\n",
       "      <td>373</td>\n",
       "      <td>373</td>\n",
       "      <td>373</td>\n",
       "      <td>373</td>\n",
       "      <td>373</td>\n",
       "      <td>373</td>\n",
       "    </tr>\n",
       "  </tbody>\n",
       "</table>\n",
       "</div>"
      ],
      "text/plain": [
       "                     room_type  latitude  longitude  price  minimum_nights  \\\n",
       "neighbourhood_group                                                          \n",
       "bronx                     1091      1091       1091   1091            1091   \n",
       "brooklyn                 20104     20104      20104  20104           20104   \n",
       "manhattan                21661     21661      21661  21661           21661   \n",
       "queens                    5666      5666       5666   5666            5666   \n",
       "staten_island              373       373        373    373             373   \n",
       "\n",
       "                     number_of_reviews  reviews_per_month  \\\n",
       "neighbourhood_group                                         \n",
       "bronx                             1091               1091   \n",
       "brooklyn                         20104              20104   \n",
       "manhattan                        21661              21661   \n",
       "queens                            5666               5666   \n",
       "staten_island                      373                373   \n",
       "\n",
       "                     calculated_host_listings_count  availability_365  \n",
       "neighbourhood_group                                                    \n",
       "bronx                                          1091              1091  \n",
       "brooklyn                                      20104             20104  \n",
       "manhattan                                     21661             21661  \n",
       "queens                                         5666              5666  \n",
       "staten_island                                   373               373  "
      ]
     },
     "execution_count": 11,
     "metadata": {},
     "output_type": "execute_result"
    }
   ],
   "source": [
    "df.groupby('neighbourhood_group').agg('count')"
   ]
  },
  {
   "cell_type": "code",
   "execution_count": 12,
   "id": "45bc1fb0-9c81-4b03-8952-a261128c1dcf",
   "metadata": {},
   "outputs": [
    {
     "data": {
      "text/plain": [
       "array(['brooklyn', 'manhattan', 'queens', 'staten_island', 'bronx'],\n",
       "      dtype=object)"
      ]
     },
     "execution_count": 12,
     "metadata": {},
     "output_type": "execute_result"
    }
   ],
   "source": [
    "df['neighbourhood_group'].unique()"
   ]
  },
  {
   "cell_type": "markdown",
   "id": "36dba4c3-33c9-4415-b00e-af634c0587b6",
   "metadata": {},
   "source": [
    "### Question 1\n",
    "\n",
    "What is the most frequent observation (mode) for the column `'neighbourhood_group'`?\n",
    "\n",
    "### Answer:"
   ]
  },
  {
   "cell_type": "code",
   "execution_count": 13,
   "id": "a3fd5d2b-d111-4624-9910-59a27355f4b4",
   "metadata": {},
   "outputs": [
    {
     "data": {
      "text/plain": [
       "'manhattan'"
      ]
     },
     "execution_count": 13,
     "metadata": {},
     "output_type": "execute_result"
    }
   ],
   "source": [
    "df['neighbourhood_group'].mode()[0]"
   ]
  },
  {
   "cell_type": "markdown",
   "id": "3039ea6b-c30b-4105-ad38-f3aafc8c7211",
   "metadata": {},
   "source": [
    "### Split the data\n",
    "\n",
    "* Split your data in train/val/test sets, with 60%/20%/20% distribution.\n",
    "* Use Scikit-Learn for that (the `train_test_split` function) and set the seed to 42.\n",
    "* Make sure that the target value ('price') is not in your dataframe."
   ]
  },
  {
   "cell_type": "code",
   "execution_count": 14,
   "id": "56b674a2-9958-4b6e-adcb-50b955b9673a",
   "metadata": {},
   "outputs": [],
   "source": [
    "from sklearn.model_selection import train_test_split\n",
    "df_fulltrain,df_test = train_test_split(df,test_size=0.2,random_state=42)\n",
    "df_train,df_val = train_test_split(df_fulltrain,test_size=0.25,random_state=42)"
   ]
  },
  {
   "cell_type": "code",
   "execution_count": 15,
   "id": "19414897-5f5b-43e1-a5d0-a105890e202f",
   "metadata": {},
   "outputs": [
    {
     "data": {
      "text/plain": [
       "(48895, 39116, 9779, 29337, 9779)"
      ]
     },
     "execution_count": 15,
     "metadata": {},
     "output_type": "execute_result"
    }
   ],
   "source": [
    "len(df),len(df_fulltrain),len(df_test),len(df_train),len(df_val)"
   ]
  },
  {
   "cell_type": "code",
   "execution_count": 16,
   "id": "e7fbc24b-5c8f-4c75-9cc2-ea22a12f355d",
   "metadata": {},
   "outputs": [],
   "source": [
    "df_train = df_train.reset_index(drop = True)\n",
    "df_val = df_val.reset_index(drop = True)\n",
    "df_test = df_test.reset_index(drop = True)"
   ]
  },
  {
   "cell_type": "code",
   "execution_count": 17,
   "id": "400792a3-18cf-4bdb-ac09-26b56faf913e",
   "metadata": {},
   "outputs": [],
   "source": [
    "y_train = df_train.price.values\n",
    "y_val = df_val.price.values\n",
    "y_test = df_test.price.values"
   ]
  },
  {
   "cell_type": "code",
   "execution_count": 57,
   "id": "abb939dc-482c-4520-8eb9-2cac4b00f858",
   "metadata": {},
   "outputs": [],
   "source": [
    "y_train = (y_train >= 152).astype(int)\n",
    "y_val = (y_val >= 152).astype(int)\n",
    "y_test = (y_test >= 152).astype(int)\n"
   ]
  },
  {
   "cell_type": "code",
   "execution_count": 18,
   "id": "af00c1b3-09f4-44a4-a7b9-e751025487ea",
   "metadata": {},
   "outputs": [],
   "source": [
    "del df_train['price']\n",
    "del df_val['price']\n",
    "del df_test['price']"
   ]
  },
  {
   "cell_type": "code",
   "execution_count": 19,
   "id": "6ab2d4b6-a5ca-4a1b-92f0-df5c85ec9e85",
   "metadata": {},
   "outputs": [
    {
     "data": {
      "text/html": [
       "<div>\n",
       "<style scoped>\n",
       "    .dataframe tbody tr th:only-of-type {\n",
       "        vertical-align: middle;\n",
       "    }\n",
       "\n",
       "    .dataframe tbody tr th {\n",
       "        vertical-align: top;\n",
       "    }\n",
       "\n",
       "    .dataframe thead th {\n",
       "        text-align: right;\n",
       "    }\n",
       "</style>\n",
       "<table border=\"1\" class=\"dataframe\">\n",
       "  <thead>\n",
       "    <tr style=\"text-align: right;\">\n",
       "      <th></th>\n",
       "      <th>0</th>\n",
       "      <th>1</th>\n",
       "      <th>2</th>\n",
       "      <th>3</th>\n",
       "    </tr>\n",
       "  </thead>\n",
       "  <tbody>\n",
       "    <tr>\n",
       "      <th>neighbourhood_group</th>\n",
       "      <td>brooklyn</td>\n",
       "      <td>manhattan</td>\n",
       "      <td>bronx</td>\n",
       "      <td>brooklyn</td>\n",
       "    </tr>\n",
       "    <tr>\n",
       "      <th>room_type</th>\n",
       "      <td>entire_home/apt</td>\n",
       "      <td>private_room</td>\n",
       "      <td>entire_home/apt</td>\n",
       "      <td>entire_home/apt</td>\n",
       "    </tr>\n",
       "    <tr>\n",
       "      <th>latitude</th>\n",
       "      <td>40.7276</td>\n",
       "      <td>40.70847</td>\n",
       "      <td>40.83149</td>\n",
       "      <td>40.66448</td>\n",
       "    </tr>\n",
       "    <tr>\n",
       "      <th>longitude</th>\n",
       "      <td>-73.94495</td>\n",
       "      <td>-74.00498</td>\n",
       "      <td>-73.92766</td>\n",
       "      <td>-73.99407</td>\n",
       "    </tr>\n",
       "    <tr>\n",
       "      <th>minimum_nights</th>\n",
       "      <td>3</td>\n",
       "      <td>1</td>\n",
       "      <td>40</td>\n",
       "      <td>2</td>\n",
       "    </tr>\n",
       "    <tr>\n",
       "      <th>number_of_reviews</th>\n",
       "      <td>29</td>\n",
       "      <td>0</td>\n",
       "      <td>0</td>\n",
       "      <td>3</td>\n",
       "    </tr>\n",
       "    <tr>\n",
       "      <th>reviews_per_month</th>\n",
       "      <td>0.7</td>\n",
       "      <td>0.0</td>\n",
       "      <td>0.0</td>\n",
       "      <td>0.08</td>\n",
       "    </tr>\n",
       "    <tr>\n",
       "      <th>calculated_host_listings_count</th>\n",
       "      <td>13</td>\n",
       "      <td>1</td>\n",
       "      <td>1</td>\n",
       "      <td>1</td>\n",
       "    </tr>\n",
       "    <tr>\n",
       "      <th>availability_365</th>\n",
       "      <td>50</td>\n",
       "      <td>7</td>\n",
       "      <td>0</td>\n",
       "      <td>0</td>\n",
       "    </tr>\n",
       "  </tbody>\n",
       "</table>\n",
       "</div>"
      ],
      "text/plain": [
       "                                              0             1  \\\n",
       "neighbourhood_group                    brooklyn     manhattan   \n",
       "room_type                       entire_home/apt  private_room   \n",
       "latitude                                40.7276      40.70847   \n",
       "longitude                             -73.94495     -74.00498   \n",
       "minimum_nights                                3             1   \n",
       "number_of_reviews                            29             0   \n",
       "reviews_per_month                           0.7           0.0   \n",
       "calculated_host_listings_count               13             1   \n",
       "availability_365                             50             7   \n",
       "\n",
       "                                              2                3  \n",
       "neighbourhood_group                       bronx         brooklyn  \n",
       "room_type                       entire_home/apt  entire_home/apt  \n",
       "latitude                               40.83149         40.66448  \n",
       "longitude                             -73.92766        -73.99407  \n",
       "minimum_nights                               40                2  \n",
       "number_of_reviews                             0                3  \n",
       "reviews_per_month                           0.0             0.08  \n",
       "calculated_host_listings_count                1                1  \n",
       "availability_365                              0                0  "
      ]
     },
     "execution_count": 19,
     "metadata": {},
     "output_type": "execute_result"
    }
   ],
   "source": [
    "df_train.head(4).T"
   ]
  },
  {
   "cell_type": "markdown",
   "id": "ca66bc0d-00dd-4d39-890f-003fd973c4e0",
   "metadata": {},
   "source": [
    "### Question 2\n",
    "\n",
    "* Create the [correlation matrix](https://www.google.com/search?q=correlation+matrix) for the numerical features of your train dataset.\n",
    "   * In a correlation matrix, you compute the correlation coefficient between every pair of features in the dataset.\n",
    "* What are the two features that have the biggest correlation in this dataset?\n",
    "\n",
    "Example of a correlation matrix for the car price dataset:\n",
    "\n",
    "<img src=\"images/correlation-matrix.png\" />\n",
    "\n",
    "### Answer:"
   ]
  },
  {
   "cell_type": "code",
   "execution_count": 20,
   "id": "1455df99-65cd-4380-b088-c65076b1ca4f",
   "metadata": {},
   "outputs": [],
   "source": [
    "corrMatrix = round(df_train.corr(),2)"
   ]
  },
  {
   "cell_type": "code",
   "execution_count": 21,
   "id": "6d464621-a0a8-4804-9170-2a3f34c8c96d",
   "metadata": {},
   "outputs": [
    {
     "data": {
      "text/html": [
       "<div>\n",
       "<style scoped>\n",
       "    .dataframe tbody tr th:only-of-type {\n",
       "        vertical-align: middle;\n",
       "    }\n",
       "\n",
       "    .dataframe tbody tr th {\n",
       "        vertical-align: top;\n",
       "    }\n",
       "\n",
       "    .dataframe thead th {\n",
       "        text-align: right;\n",
       "    }\n",
       "</style>\n",
       "<table border=\"1\" class=\"dataframe\">\n",
       "  <thead>\n",
       "    <tr style=\"text-align: right;\">\n",
       "      <th></th>\n",
       "      <th>latitude</th>\n",
       "      <th>longitude</th>\n",
       "      <th>minimum_nights</th>\n",
       "      <th>number_of_reviews</th>\n",
       "      <th>reviews_per_month</th>\n",
       "      <th>calculated_host_listings_count</th>\n",
       "      <th>availability_365</th>\n",
       "    </tr>\n",
       "  </thead>\n",
       "  <tbody>\n",
       "    <tr>\n",
       "      <th>latitude</th>\n",
       "      <td>1.00</td>\n",
       "      <td>0.08</td>\n",
       "      <td>0.03</td>\n",
       "      <td>-0.01</td>\n",
       "      <td>-0.01</td>\n",
       "      <td>0.02</td>\n",
       "      <td>-0.01</td>\n",
       "    </tr>\n",
       "    <tr>\n",
       "      <th>longitude</th>\n",
       "      <td>0.08</td>\n",
       "      <td>1.00</td>\n",
       "      <td>-0.06</td>\n",
       "      <td>0.06</td>\n",
       "      <td>0.13</td>\n",
       "      <td>-0.12</td>\n",
       "      <td>0.08</td>\n",
       "    </tr>\n",
       "    <tr>\n",
       "      <th>minimum_nights</th>\n",
       "      <td>0.03</td>\n",
       "      <td>-0.06</td>\n",
       "      <td>1.00</td>\n",
       "      <td>-0.08</td>\n",
       "      <td>-0.12</td>\n",
       "      <td>0.12</td>\n",
       "      <td>0.14</td>\n",
       "    </tr>\n",
       "    <tr>\n",
       "      <th>number_of_reviews</th>\n",
       "      <td>-0.01</td>\n",
       "      <td>0.06</td>\n",
       "      <td>-0.08</td>\n",
       "      <td>1.00</td>\n",
       "      <td>0.59</td>\n",
       "      <td>-0.07</td>\n",
       "      <td>0.17</td>\n",
       "    </tr>\n",
       "    <tr>\n",
       "      <th>reviews_per_month</th>\n",
       "      <td>-0.01</td>\n",
       "      <td>0.13</td>\n",
       "      <td>-0.12</td>\n",
       "      <td>0.59</td>\n",
       "      <td>1.00</td>\n",
       "      <td>-0.05</td>\n",
       "      <td>0.17</td>\n",
       "    </tr>\n",
       "    <tr>\n",
       "      <th>calculated_host_listings_count</th>\n",
       "      <td>0.02</td>\n",
       "      <td>-0.12</td>\n",
       "      <td>0.12</td>\n",
       "      <td>-0.07</td>\n",
       "      <td>-0.05</td>\n",
       "      <td>1.00</td>\n",
       "      <td>0.23</td>\n",
       "    </tr>\n",
       "    <tr>\n",
       "      <th>availability_365</th>\n",
       "      <td>-0.01</td>\n",
       "      <td>0.08</td>\n",
       "      <td>0.14</td>\n",
       "      <td>0.17</td>\n",
       "      <td>0.17</td>\n",
       "      <td>0.23</td>\n",
       "      <td>1.00</td>\n",
       "    </tr>\n",
       "  </tbody>\n",
       "</table>\n",
       "</div>"
      ],
      "text/plain": [
       "                                latitude  longitude  minimum_nights  \\\n",
       "latitude                            1.00       0.08            0.03   \n",
       "longitude                           0.08       1.00           -0.06   \n",
       "minimum_nights                      0.03      -0.06            1.00   \n",
       "number_of_reviews                  -0.01       0.06           -0.08   \n",
       "reviews_per_month                  -0.01       0.13           -0.12   \n",
       "calculated_host_listings_count      0.02      -0.12            0.12   \n",
       "availability_365                   -0.01       0.08            0.14   \n",
       "\n",
       "                                number_of_reviews  reviews_per_month  \\\n",
       "latitude                                    -0.01              -0.01   \n",
       "longitude                                    0.06               0.13   \n",
       "minimum_nights                              -0.08              -0.12   \n",
       "number_of_reviews                            1.00               0.59   \n",
       "reviews_per_month                            0.59               1.00   \n",
       "calculated_host_listings_count              -0.07              -0.05   \n",
       "availability_365                             0.17               0.17   \n",
       "\n",
       "                                calculated_host_listings_count  \\\n",
       "latitude                                                  0.02   \n",
       "longitude                                                -0.12   \n",
       "minimum_nights                                            0.12   \n",
       "number_of_reviews                                        -0.07   \n",
       "reviews_per_month                                        -0.05   \n",
       "calculated_host_listings_count                            1.00   \n",
       "availability_365                                          0.23   \n",
       "\n",
       "                                availability_365  \n",
       "latitude                                   -0.01  \n",
       "longitude                                   0.08  \n",
       "minimum_nights                              0.14  \n",
       "number_of_reviews                           0.17  \n",
       "reviews_per_month                           0.17  \n",
       "calculated_host_listings_count              0.23  \n",
       "availability_365                            1.00  "
      ]
     },
     "execution_count": 21,
     "metadata": {},
     "output_type": "execute_result"
    }
   ],
   "source": [
    "corrMatrix"
   ]
  },
  {
   "cell_type": "code",
   "execution_count": 22,
   "id": "e580cd09-f809-4bd5-8c01-0b34de3a1371",
   "metadata": {},
   "outputs": [
    {
     "data": {
      "image/png": "[encoded data removed]",
      "text/plain": [
       "<Figure size 432x288 with 2 Axes>"
      ]
     },
     "metadata": {
      "needs_background": "light"
     },
     "output_type": "display_data"
    }
   ],
   "source": [
    "sn.heatmap(corrMatrix, annot=True)\n",
    "plt.show()"
   ]
  },
  {
   "cell_type": "markdown",
   "id": "f39c1467-9e62-4b21-9502-f791e6466331",
   "metadata": {},
   "source": [
    "### Make price binary\n",
    "\n",
    "* We need to turn the price variable from numeric into binary.\n",
    "* Let's create a variable `above_average` which is `1` if the price is above (or equal to) `152`."
   ]
  },
  {
   "cell_type": "code",
   "execution_count": 28,
   "id": "0f88dae0-3c55-40c6-92d8-c1a945d23aae",
   "metadata": {},
   "outputs": [],
   "source": [
    "df['above_average'] = (df['price']>=152).astype(int) "
   ]
  },
  {
   "cell_type": "code",
   "execution_count": 24,
   "id": "ba77481f-3d06-4732-a956-d54303cf8561",
   "metadata": {},
   "outputs": [
    {
     "data": {
      "text/html": [
       "<div>\n",
       "<style scoped>\n",
       "    .dataframe tbody tr th:only-of-type {\n",
       "        vertical-align: middle;\n",
       "    }\n",
       "\n",
       "    .dataframe tbody tr th {\n",
       "        vertical-align: top;\n",
       "    }\n",
       "\n",
       "    .dataframe thead th {\n",
       "        text-align: right;\n",
       "    }\n",
       "</style>\n",
       "<table border=\"1\" class=\"dataframe\">\n",
       "  <thead>\n",
       "    <tr style=\"text-align: right;\">\n",
       "      <th></th>\n",
       "      <th>0</th>\n",
       "      <th>1</th>\n",
       "      <th>2</th>\n",
       "    </tr>\n",
       "  </thead>\n",
       "  <tbody>\n",
       "    <tr>\n",
       "      <th>neighbourhood_group</th>\n",
       "      <td>brooklyn</td>\n",
       "      <td>manhattan</td>\n",
       "      <td>manhattan</td>\n",
       "    </tr>\n",
       "    <tr>\n",
       "      <th>room_type</th>\n",
       "      <td>private_room</td>\n",
       "      <td>entire_home/apt</td>\n",
       "      <td>private_room</td>\n",
       "    </tr>\n",
       "    <tr>\n",
       "      <th>latitude</th>\n",
       "      <td>40.64749</td>\n",
       "      <td>40.75362</td>\n",
       "      <td>40.80902</td>\n",
       "    </tr>\n",
       "    <tr>\n",
       "      <th>longitude</th>\n",
       "      <td>-73.97237</td>\n",
       "      <td>-73.98377</td>\n",
       "      <td>-73.9419</td>\n",
       "    </tr>\n",
       "    <tr>\n",
       "      <th>price</th>\n",
       "      <td>149</td>\n",
       "      <td>225</td>\n",
       "      <td>150</td>\n",
       "    </tr>\n",
       "    <tr>\n",
       "      <th>minimum_nights</th>\n",
       "      <td>1</td>\n",
       "      <td>1</td>\n",
       "      <td>3</td>\n",
       "    </tr>\n",
       "    <tr>\n",
       "      <th>number_of_reviews</th>\n",
       "      <td>9</td>\n",
       "      <td>45</td>\n",
       "      <td>0</td>\n",
       "    </tr>\n",
       "    <tr>\n",
       "      <th>reviews_per_month</th>\n",
       "      <td>0.21</td>\n",
       "      <td>0.38</td>\n",
       "      <td>0.0</td>\n",
       "    </tr>\n",
       "    <tr>\n",
       "      <th>calculated_host_listings_count</th>\n",
       "      <td>6</td>\n",
       "      <td>2</td>\n",
       "      <td>1</td>\n",
       "    </tr>\n",
       "    <tr>\n",
       "      <th>availability_365</th>\n",
       "      <td>365</td>\n",
       "      <td>355</td>\n",
       "      <td>365</td>\n",
       "    </tr>\n",
       "    <tr>\n",
       "      <th>above_average</th>\n",
       "      <td>0</td>\n",
       "      <td>1</td>\n",
       "      <td>0</td>\n",
       "    </tr>\n",
       "  </tbody>\n",
       "</table>\n",
       "</div>"
      ],
      "text/plain": [
       "                                           0                1             2\n",
       "neighbourhood_group                 brooklyn        manhattan     manhattan\n",
       "room_type                       private_room  entire_home/apt  private_room\n",
       "latitude                            40.64749         40.75362      40.80902\n",
       "longitude                          -73.97237        -73.98377      -73.9419\n",
       "price                                    149              225           150\n",
       "minimum_nights                             1                1             3\n",
       "number_of_reviews                          9               45             0\n",
       "reviews_per_month                       0.21             0.38           0.0\n",
       "calculated_host_listings_count             6                2             1\n",
       "availability_365                         365              355           365\n",
       "above_average                              0                1             0"
      ]
     },
     "execution_count": 24,
     "metadata": {},
     "output_type": "execute_result"
    }
   ],
   "source": [
    "df.head(3).T"
   ]
  },
  {
   "cell_type": "code",
   "execution_count": 29,
   "id": "1771bd74-40a6-4035-ac21-563f703a6c24",
   "metadata": {},
   "outputs": [],
   "source": [
    "from sklearn.model_selection import train_test_split\n",
    "df_b_fulltrain,df_b_test = train_test_split(df,test_size=0.2,random_state=42)\n",
    "df_b_train,df_b_val = train_test_split(df_b_fulltrain,test_size=0.25,random_state=42)"
   ]
  },
  {
   "cell_type": "code",
   "execution_count": 30,
   "id": "6ed4e03e-1f42-4a7f-bfa1-a7e6b586987e",
   "metadata": {},
   "outputs": [
    {
     "data": {
      "text/plain": [
       "(48895, 39116, 9779, 29337, 9779)"
      ]
     },
     "execution_count": 30,
     "metadata": {},
     "output_type": "execute_result"
    }
   ],
   "source": [
    "len(df),len(df_b_fulltrain),len(df_b_test),len(df_b_train),len(df_b_val)"
   ]
  },
  {
   "cell_type": "code",
   "execution_count": 31,
   "id": "40a98ac4-394e-464b-b4a6-16cea3411f96",
   "metadata": {},
   "outputs": [],
   "source": [
    "df_b_train = df_b_train.reset_index(drop = True)\n",
    "df_b_val = df_b_val.reset_index(drop = True)\n",
    "df_b_test = df_b_test.reset_index(drop = True)"
   ]
  },
  {
   "cell_type": "code",
   "execution_count": 32,
   "id": "42368ff2-de0a-4c52-8244-fd0ad19898ad",
   "metadata": {},
   "outputs": [],
   "source": [
    "y_b_train = df_b_train.above_average.values\n",
    "y_b_val = df_b_val.above_average.values\n",
    "y_b_test = df_b_test.above_average.values"
   ]
  },
  {
   "cell_type": "code",
   "execution_count": 44,
   "id": "fc5bcece-7d90-44e2-b1e0-8b878c027d21",
   "metadata": {},
   "outputs": [],
   "source": [
    "df_b_train.drop(['price','above_average'], axis = 1, inplace=True)\n",
    "df_b_val.drop(['price','above_average'], axis = 1, inplace=True)\n",
    "df_b_test.drop(['price','above_average'], axis = 1, inplace=True)"
   ]
  },
  {
   "cell_type": "markdown",
   "id": "7a435d3f-0f3d-4b85-9a75-2a17634d6792",
   "metadata": {},
   "source": [
    "### Question 3\n",
    "\n",
    "* Calculate the mutual information score with the (binarized) price for the two categorical variables that we have. Use the training set only.\n",
    "* Which of these two variables has bigger score?\n",
    "* Round it to 2 decimal digits using `round(score, 2)`\n",
    "\n",
    "### Answer:"
   ]
  },
  {
   "cell_type": "code",
   "execution_count": 46,
   "id": "62debdbb-20d0-4970-b32f-17640cac5844",
   "metadata": {},
   "outputs": [],
   "source": [
    "from sklearn.metrics import mutual_info_score"
   ]
  },
  {
   "cell_type": "code",
   "execution_count": 47,
   "id": "8f439c4b-5a14-400e-b3ff-f2f56e48cb3c",
   "metadata": {},
   "outputs": [],
   "source": [
    "categorical = list(df_b_train.dtypes[df_b_train.dtypes=='object'].index)"
   ]
  },
  {
   "cell_type": "code",
   "execution_count": 48,
   "id": "4dcffddb-3b5e-473f-a1a8-8143b0f89d43",
   "metadata": {},
   "outputs": [
    {
     "data": {
      "text/plain": [
       "['neighbourhood_group', 'room_type']"
      ]
     },
     "execution_count": 48,
     "metadata": {},
     "output_type": "execute_result"
    }
   ],
   "source": [
    "categorical"
   ]
  },
  {
   "cell_type": "code",
   "execution_count": 49,
   "id": "f2145e4a-7f2e-4fc2-baf6-d2341fff3770",
   "metadata": {},
   "outputs": [
    {
     "name": "stdout",
     "output_type": "stream",
     "text": [
      "mutual info score for neighbourhood_group is : 0.05\n",
      "mutual info score for room_type is : 0.14\n"
     ]
    }
   ],
   "source": [
    "for c in categorical:\n",
    "    print('mutual info score for {} is : {}'.format(c,round(mutual_info_score(y_b_train,df_b_train[c]),2)))"
   ]
  },
  {
   "cell_type": "markdown",
   "id": "d36a6ec2-1873-4ed0-bada-007b1df8e389",
   "metadata": {},
   "source": [
    "### Question 4\n",
    "\n",
    "* Now let's train a logistic regression\n",
    "* Remember that we have two categorical variables in the data. Include them using one-hot encoding.\n",
    "* Fit the model on the training dataset.\n",
    "   * To make sure the results are reproducible across different versions of Scikit-Learn, fit the model with these parameters:\n",
    "   * `model = LogisticRegression(solver='lbfgs', C=1.0, random_state=42)`\n",
    "* Calculate the accuracy on the validation dataset and rount it to 2 decimal digits.\n",
    "\n",
    "### Answer:"
   ]
  },
  {
   "cell_type": "code",
   "execution_count": 50,
   "id": "333ec666-2c44-4411-ab17-1dd4832709f9",
   "metadata": {},
   "outputs": [],
   "source": [
    "from sklearn.feature_extraction import DictVectorizer\n",
    "from sklearn.linear_model import LogisticRegression"
   ]
  },
  {
   "cell_type": "code",
   "execution_count": 51,
   "id": "a9babfc3-9d3e-4b96-bdce-48eecd6242c6",
   "metadata": {},
   "outputs": [],
   "source": [
    "dv = DictVectorizer(sparse=False)"
   ]
  },
  {
   "cell_type": "code",
   "execution_count": 52,
   "id": "b9c11e4b-3205-439b-a797-8ad68ddf3eb5",
   "metadata": {},
   "outputs": [],
   "source": [
    "train_dict = df_b_train.to_dict(orient='records')"
   ]
  },
  {
   "cell_type": "code",
   "execution_count": 53,
   "id": "00e797d5-c50c-4ac5-851d-56df38c6e093",
   "metadata": {},
   "outputs": [],
   "source": [
    "X_b_train  = dv.fit_transform(train_dict)"
   ]
  },
  {
   "cell_type": "code",
   "execution_count": 54,
   "id": "4b8a9ff6-a0ce-44d7-be51-137b303d0c86",
   "metadata": {},
   "outputs": [
    {
     "data": {
      "text/plain": [
       "['availability_365',\n",
       " 'calculated_host_listings_count',\n",
       " 'latitude',\n",
       " 'longitude',\n",
       " 'minimum_nights',\n",
       " 'neighbourhood_group=bronx',\n",
       " 'neighbourhood_group=brooklyn',\n",
       " 'neighbourhood_group=manhattan',\n",
       " 'neighbourhood_group=queens',\n",
       " 'neighbourhood_group=staten_island',\n",
       " 'number_of_reviews',\n",
       " 'reviews_per_month',\n",
       " 'room_type=entire_home/apt',\n",
       " 'room_type=private_room',\n",
       " 'room_type=shared_room']"
      ]
     },
     "execution_count": 54,
     "metadata": {},
     "output_type": "execute_result"
    }
   ],
   "source": [
    "dv.get_feature_names()"
   ]
  },
  {
   "cell_type": "code",
   "execution_count": 55,
   "id": "dd4cd8c1-cdb8-4b63-9d7f-e0a84c8c9a30",
   "metadata": {},
   "outputs": [],
   "source": [
    "val_dict = df_b_val.to_dict(orient='records')"
   ]
  },
  {
   "cell_type": "code",
   "execution_count": 56,
   "id": "cbcc0114-cb74-4cca-8c6c-1af6f2e3b540",
   "metadata": {},
   "outputs": [],
   "source": [
    "X_b_val = dv.transform(val_dict)"
   ]
  },
  {
   "cell_type": "code",
   "execution_count": 57,
   "id": "104fe8d4-39e7-47be-bc69-931e893145e8",
   "metadata": {},
   "outputs": [],
   "source": [
    "model = LogisticRegression(solver='lbfgs', C=1.0, random_state=42)"
   ]
  },
  {
   "cell_type": "code",
   "execution_count": 59,
   "id": "3ddfb18d-ed86-4052-abc3-b25a3384d1f4",
   "metadata": {},
   "outputs": [
    {
     "name": "stderr",
     "output_type": "stream",
     "text": [
      "c:\\python\\lib\\site-packages\\sklearn\\linear_model\\_logistic.py:763: ConvergenceWarning: lbfgs failed to converge (status=1):\n",
      "STOP: TOTAL NO. of ITERATIONS REACHED LIMIT.\n",
      "\n",
      "Increase the number of iterations (max_iter) or scale the data as shown in:\n",
      "    https://scikit-learn.org/stable/modules/preprocessing.html\n",
      "Please also refer to the documentation for alternative solver options:\n",
      "    https://scikit-learn.org/stable/modules/linear_model.html#logistic-regression\n",
      "  n_iter_i = _check_optimize_result(\n"
     ]
    },
    {
     "data": {
      "text/plain": [
       "LogisticRegression(random_state=42)"
      ]
     },
     "execution_count": 59,
     "metadata": {},
     "output_type": "execute_result"
    }
   ],
   "source": [
    "model.fit(X_b_train,y_b_train)"
   ]
  },
  {
   "cell_type": "code",
   "execution_count": 60,
   "id": "584a4f48-62da-4452-a0bc-c23449376279",
   "metadata": {},
   "outputs": [
    {
     "data": {
      "text/plain": [
       "-0.002623753921713334"
      ]
     },
     "execution_count": 60,
     "metadata": {},
     "output_type": "execute_result"
    }
   ],
   "source": [
    "model.intercept_[0]"
   ]
  },
  {
   "cell_type": "code",
   "execution_count": 66,
   "id": "90297810-9614-42c1-ac9c-a279fa3b697f",
   "metadata": {},
   "outputs": [
    {
     "data": {
      "text/plain": [
       "array([0, 0, 0, ..., 0, 0, 1])"
      ]
     },
     "execution_count": 66,
     "metadata": {},
     "output_type": "execute_result"
    }
   ],
   "source": [
    "model.predict(X_b_train) # Hard Predictions"
   ]
  },
  {
   "cell_type": "code",
   "execution_count": 67,
   "id": "587cf9e1-1aa5-4f9b-8014-0a165aaf4efa",
   "metadata": {},
   "outputs": [],
   "source": [
    "y_pred = model.predict_proba(X_b_val)[:, 1]"
   ]
  },
  {
   "cell_type": "code",
   "execution_count": 115,
   "id": "c5affcee-b83e-48dc-98d3-8672edcabd0a",
   "metadata": {},
   "outputs": [
    {
     "data": {
      "text/plain": [
       "array([False,  True, False, ..., False, False,  True])"
      ]
     },
     "execution_count": 115,
     "metadata": {},
     "output_type": "execute_result"
    }
   ],
   "source": [
    "(y_pred >= 0.5)"
   ]
  },
  {
   "cell_type": "code",
   "execution_count": 68,
   "id": "7591cd8b-f8bd-4c20-8a51-7fbe74fb7f08",
   "metadata": {},
   "outputs": [],
   "source": [
    "above_average_decision = (y_pred >= 0.5).astype(int)"
   ]
  },
  {
   "cell_type": "code",
   "execution_count": 116,
   "id": "2439cf3c-0767-4c9c-a224-a01e4a8201bb",
   "metadata": {},
   "outputs": [
    {
     "data": {
      "text/plain": [
       "array([ True, False, False, ...,  True,  True, False])"
      ]
     },
     "execution_count": 116,
     "metadata": {},
     "output_type": "execute_result"
    }
   ],
   "source": [
    "(y_b_val == above_average_decision)"
   ]
  },
  {
   "cell_type": "code",
   "execution_count": 74,
   "id": "a0f8f659-80d0-4627-bc49-0334a0b0d373",
   "metadata": {},
   "outputs": [],
   "source": [
    "original_accuracy = round((y_b_val == above_average_decision).mean(),2)"
   ]
  },
  {
   "cell_type": "code",
   "execution_count": 114,
   "id": "a7484830-1cde-43d3-8ffd-85ccbcc995ba",
   "metadata": {},
   "outputs": [
    {
     "data": {
      "text/plain": [
       "0.79"
      ]
     },
     "execution_count": 114,
     "metadata": {},
     "output_type": "execute_result"
    }
   ],
   "source": [
    "original_accuracy"
   ]
  },
  {
   "cell_type": "markdown",
   "id": "f1e00041-78e3-4336-a6c0-78d1bdb6701e",
   "metadata": {},
   "source": [
    "### Question 5\n",
    "\n",
    "* We have 9 features: 7 numerical features and 2 categorical.\n",
    "* Let's find the least useful one using the *feature elimination* technique.\n",
    "* Train a model with all these features (using the same parameters as in Q4).\n",
    "* Now exclude each feature from this set and train a model without it. Record the accuracy for each model.\n",
    "* For each feature, calculate the difference between the original accuracy and the accuracy without the feature. \n",
    "* Which of following feature has the smallest difference? \n",
    "   * `neighbourhood_group`\n",
    "   * `room_type` \n",
    "   * `number_of_reviews`\n",
    "   * `reviews_per_month`\n",
    "\n",
    "> **note**: the difference doesn't have to be positive\n",
    "\n",
    "### Answer:"
   ]
  },
  {
   "cell_type": "code",
   "execution_count": 129,
   "id": "b267345f-7a87-417a-991d-593d9ccac27d",
   "metadata": {},
   "outputs": [],
   "source": [
    "features = ['neighbourhood_group', 'room_type', 'latitude', 'longitude','minimum_nights', \n",
    "            'number_of_reviews','reviews_per_month', 'calculated_host_listings_count',\n",
    "           'availability_365']"
   ]
  },
  {
   "cell_type": "code",
   "execution_count": 172,
   "id": "58acd29f-9713-4603-8021-24b021c14fdd",
   "metadata": {},
   "outputs": [],
   "source": [
    "# features = ['neighbourhood_group', 'room_type', 'number_of_reviews','reviews_per_month']"
   ]
  },
  {
   "cell_type": "code",
   "execution_count": 130,
   "id": "4f9d6c8c-9f81-4423-b81a-b8016023f9b3",
   "metadata": {},
   "outputs": [],
   "source": [
    "def featelim (df, features, original_accuracy):\n",
    "  \n",
    "    df_f=df.copy()\n",
    "    df_f_fulltrain,df_f_test = train_test_split(df_f,test_size=0.2,random_state=42)\n",
    "    df_f_train,df_f_val = train_test_split(df_f_fulltrain,test_size=0.25,random_state=42)\n",
    "\n",
    "    df_f_train = df_f_train.reset_index(drop = True)\n",
    "    df_f_val = df_f_val.reset_index(drop = True)\n",
    "    df_f_test = df_f_test.reset_index(drop = True)\n",
    "\n",
    "    y_f_train = df_f_train.above_average.values\n",
    "    y_f_val = df_f_val.above_average.values\n",
    "    y_f_test = df_f_test.above_average.values\n",
    "    \n",
    "    \n",
    "    target = ['price','above_average']\n",
    "\n",
    "    df_f_train.drop(target, axis = 1, inplace=True)\n",
    "    df_f_val.drop(target, axis = 1, inplace=True)\n",
    "    df_f_test.drop(target, axis = 1, inplace=True)\n",
    "    \n",
    "    for feat in features:\n",
    "        df_f_train = df_f_train.copy()\n",
    "        df_f_val = df_f_val.copy()\n",
    "        df_f_test = df_f_test.copy()\n",
    "        \n",
    "        df_train_i = df_f_train.drop(feat, axis = 1)\n",
    "        df_val_i = df_f_val.drop(feat, axis = 1)\n",
    "        df_test_i = df_f_test.drop(feat, axis = 1)\n",
    "        print(df_test_i.columns)\n",
    "        \n",
    "        dv = DictVectorizer(sparse=False)\n",
    "        train_dict = df_train_i.to_dict(orient='records')\n",
    "        X_f_train  = dv.fit_transform(train_dict)\n",
    "        val_dict = df_val_i.to_dict(orient='records')\n",
    "        X_f_val = dv.transform(val_dict)\n",
    "        model = LogisticRegression(solver='lbfgs', C=1.0, random_state=42)\n",
    "        model.fit(X_f_train,y_f_train)\n",
    "\n",
    "        y_f_pred = model.predict_proba(X_f_val)[:, 1]\n",
    "\n",
    "        above_average_decision = (y_f_pred >= 0.5).astype(int)\n",
    "\n",
    "        print('excluded_{}_accuracy is :'.format(feat), round((y_f_val == above_average_decision).mean(),2))\n",
    "        print('excluded_{}_accuracy_diff is :'.format(feat),(original_accuracy - round((y_f_val == above_average_decision).mean(),2)))\n",
    "#         print(dv.get_feature_names())\n",
    "        print()\n",
    "        print()\n",
    "        \n",
    "\n",
    "        "
   ]
  },
  {
   "cell_type": "code",
   "execution_count": 128,
   "id": "07341470-0e7f-4868-87f5-73f34796e8b3",
   "metadata": {},
   "outputs": [
    {
     "name": "stdout",
     "output_type": "stream",
     "text": [
      "Index(['room_type', 'latitude', 'longitude', 'minimum_nights',\n",
      "       'number_of_reviews', 'reviews_per_month',\n",
      "       'calculated_host_listings_count', 'availability_365'],\n",
      "      dtype='object')\n",
      "excluded_neighbourhood_group_accuracy is : 0.75\n",
      "excluded_neighbourhood_group_accuracy_diff is : 0.040000000000000036\n",
      "\n",
      "\n",
      "Index(['neighbourhood_group', 'latitude', 'longitude', 'minimum_nights',\n",
      "       'number_of_reviews', 'reviews_per_month',\n",
      "       'calculated_host_listings_count', 'availability_365'],\n",
      "      dtype='object')\n"
     ]
    },
    {
     "name": "stderr",
     "output_type": "stream",
     "text": [
      "c:\\python\\lib\\site-packages\\sklearn\\linear_model\\_logistic.py:763: ConvergenceWarning: lbfgs failed to converge (status=1):\n",
      "STOP: TOTAL NO. of ITERATIONS REACHED LIMIT.\n",
      "\n",
      "Increase the number of iterations (max_iter) or scale the data as shown in:\n",
      "    https://scikit-learn.org/stable/modules/preprocessing.html\n",
      "Please also refer to the documentation for alternative solver options:\n",
      "    https://scikit-learn.org/stable/modules/linear_model.html#logistic-regression\n",
      "  n_iter_i = _check_optimize_result(\n"
     ]
    },
    {
     "name": "stdout",
     "output_type": "stream",
     "text": [
      "excluded_room_type_accuracy is : 0.72\n",
      "excluded_room_type_accuracy_diff is : 0.07000000000000006\n",
      "\n",
      "\n",
      "Index(['neighbourhood_group', 'room_type', 'latitude', 'longitude',\n",
      "       'minimum_nights', 'reviews_per_month', 'calculated_host_listings_count',\n",
      "       'availability_365'],\n",
      "      dtype='object')\n"
     ]
    },
    {
     "name": "stderr",
     "output_type": "stream",
     "text": [
      "c:\\python\\lib\\site-packages\\sklearn\\linear_model\\_logistic.py:763: ConvergenceWarning: lbfgs failed to converge (status=1):\n",
      "STOP: TOTAL NO. of ITERATIONS REACHED LIMIT.\n",
      "\n",
      "Increase the number of iterations (max_iter) or scale the data as shown in:\n",
      "    https://scikit-learn.org/stable/modules/preprocessing.html\n",
      "Please also refer to the documentation for alternative solver options:\n",
      "    https://scikit-learn.org/stable/modules/linear_model.html#logistic-regression\n",
      "  n_iter_i = _check_optimize_result(\n"
     ]
    },
    {
     "name": "stdout",
     "output_type": "stream",
     "text": [
      "excluded_number_of_reviews_accuracy is : 0.79\n",
      "excluded_number_of_reviews_accuracy_diff is : 0.0\n",
      "\n",
      "\n",
      "Index(['neighbourhood_group', 'room_type', 'latitude', 'longitude',\n",
      "       'minimum_nights', 'number_of_reviews', 'calculated_host_listings_count',\n",
      "       'availability_365'],\n",
      "      dtype='object')\n",
      "excluded_reviews_per_month_accuracy is : 0.79\n",
      "excluded_reviews_per_month_accuracy_diff is : 0.0\n",
      "\n",
      "\n"
     ]
    },
    {
     "name": "stderr",
     "output_type": "stream",
     "text": [
      "c:\\python\\lib\\site-packages\\sklearn\\linear_model\\_logistic.py:763: ConvergenceWarning: lbfgs failed to converge (status=1):\n",
      "STOP: TOTAL NO. of ITERATIONS REACHED LIMIT.\n",
      "\n",
      "Increase the number of iterations (max_iter) or scale the data as shown in:\n",
      "    https://scikit-learn.org/stable/modules/preprocessing.html\n",
      "Please also refer to the documentation for alternative solver options:\n",
      "    https://scikit-learn.org/stable/modules/linear_model.html#logistic-regression\n",
      "  n_iter_i = _check_optimize_result(\n"
     ]
    }
   ],
   "source": [
    "featelim(df, features, original_accuracy)"
   ]
  },
  {
   "cell_type": "markdown",
   "id": "f30e2b77-51f4-4790-b9fa-fe894e2a8c38",
   "metadata": {},
   "source": [
    "### Question 6\n",
    "\n",
    "* For this question, we'll see how to use a linear regression model from Scikit-Learn\n",
    "* We'll need to use the original column `'price'`. Apply the logarithmic transformation to this column.\n",
    "* Fit the Ridge regression model on the training data.\n",
    "* This model has a parameter `alpha`. Let's try the following values: `[0, 0.01, 0.1, 1, 10]`\n",
    "* Which of these alphas leads to the best RMSE on the validation set? Round your RMSE scores to 3 decimal digits.\n",
    "\n",
    "If there are multiple options, select the smallest `alpha`.\n",
    "\n",
    "### Answer:"
   ]
  },
  {
   "cell_type": "code",
   "execution_count": 147,
   "id": "29c70bd0-a845-4299-bc6c-34fd9cbea00a",
   "metadata": {},
   "outputs": [],
   "source": [
    "alpha = [0, 0.01, 0.1, 1, 10]"
   ]
  },
  {
   "cell_type": "code",
   "execution_count": 143,
   "id": "20adfc24-2469-4c0b-a07d-97b51b48efef",
   "metadata": {},
   "outputs": [
    {
     "data": {
      "text/html": [
       "<div>\n",
       "<style scoped>\n",
       "    .dataframe tbody tr th:only-of-type {\n",
       "        vertical-align: middle;\n",
       "    }\n",
       "\n",
       "    .dataframe tbody tr th {\n",
       "        vertical-align: top;\n",
       "    }\n",
       "\n",
       "    .dataframe thead th {\n",
       "        text-align: right;\n",
       "    }\n",
       "</style>\n",
       "<table border=\"1\" class=\"dataframe\">\n",
       "  <thead>\n",
       "    <tr style=\"text-align: right;\">\n",
       "      <th></th>\n",
       "      <th>0</th>\n",
       "      <th>1</th>\n",
       "      <th>2</th>\n",
       "    </tr>\n",
       "  </thead>\n",
       "  <tbody>\n",
       "    <tr>\n",
       "      <th>neighbourhood_group</th>\n",
       "      <td>brooklyn</td>\n",
       "      <td>manhattan</td>\n",
       "      <td>manhattan</td>\n",
       "    </tr>\n",
       "    <tr>\n",
       "      <th>room_type</th>\n",
       "      <td>private_room</td>\n",
       "      <td>entire_home/apt</td>\n",
       "      <td>private_room</td>\n",
       "    </tr>\n",
       "    <tr>\n",
       "      <th>latitude</th>\n",
       "      <td>40.64749</td>\n",
       "      <td>40.75362</td>\n",
       "      <td>40.80902</td>\n",
       "    </tr>\n",
       "    <tr>\n",
       "      <th>longitude</th>\n",
       "      <td>-73.97237</td>\n",
       "      <td>-73.98377</td>\n",
       "      <td>-73.9419</td>\n",
       "    </tr>\n",
       "    <tr>\n",
       "      <th>price</th>\n",
       "      <td>149</td>\n",
       "      <td>225</td>\n",
       "      <td>150</td>\n",
       "    </tr>\n",
       "    <tr>\n",
       "      <th>minimum_nights</th>\n",
       "      <td>1</td>\n",
       "      <td>1</td>\n",
       "      <td>3</td>\n",
       "    </tr>\n",
       "    <tr>\n",
       "      <th>number_of_reviews</th>\n",
       "      <td>9</td>\n",
       "      <td>45</td>\n",
       "      <td>0</td>\n",
       "    </tr>\n",
       "    <tr>\n",
       "      <th>reviews_per_month</th>\n",
       "      <td>0.21</td>\n",
       "      <td>0.38</td>\n",
       "      <td>0.0</td>\n",
       "    </tr>\n",
       "    <tr>\n",
       "      <th>calculated_host_listings_count</th>\n",
       "      <td>6</td>\n",
       "      <td>2</td>\n",
       "      <td>1</td>\n",
       "    </tr>\n",
       "    <tr>\n",
       "      <th>availability_365</th>\n",
       "      <td>365</td>\n",
       "      <td>355</td>\n",
       "      <td>365</td>\n",
       "    </tr>\n",
       "    <tr>\n",
       "      <th>above_average</th>\n",
       "      <td>0</td>\n",
       "      <td>1</td>\n",
       "      <td>0</td>\n",
       "    </tr>\n",
       "  </tbody>\n",
       "</table>\n",
       "</div>"
      ],
      "text/plain": [
       "                                           0                1             2\n",
       "neighbourhood_group                 brooklyn        manhattan     manhattan\n",
       "room_type                       private_room  entire_home/apt  private_room\n",
       "latitude                            40.64749         40.75362      40.80902\n",
       "longitude                          -73.97237        -73.98377      -73.9419\n",
       "price                                    149              225           150\n",
       "minimum_nights                             1                1             3\n",
       "number_of_reviews                          9               45             0\n",
       "reviews_per_month                       0.21             0.38           0.0\n",
       "calculated_host_listings_count             6                2             1\n",
       "availability_365                         365              355           365\n",
       "above_average                              0                1             0"
      ]
     },
     "execution_count": 143,
     "metadata": {},
     "output_type": "execute_result"
    }
   ],
   "source": [
    "df_lin.head(3).T"
   ]
  },
  {
   "cell_type": "code",
   "execution_count": 157,
   "id": "e77dc7eb-69e0-4687-9548-4a066b6ad6ae",
   "metadata": {},
   "outputs": [],
   "source": [
    "from sklearn.feature_extraction import DictVectorizer\n",
    "from sklearn.linear_model import Ridge\n",
    "from sklearn.metrics import mean_squared_error\n",
    "import numpy as np"
   ]
  },
  {
   "cell_type": "code",
   "execution_count": 167,
   "id": "b39c3b69-5976-42ea-99ad-af2a50efe45c",
   "metadata": {
    "tags": []
   },
   "outputs": [],
   "source": [
    "df_lin = df.copy()\n",
    "df_lin['price'] = np.log1p(df.price)\n",
    "df_f_fulltrain,df_f_test = train_test_split(df_lin,test_size=0.2,random_state=42)\n",
    "df_f_train,df_f_val = train_test_split(df_f_fulltrain,test_size=0.25,random_state=42)\n",
    "\n",
    "df_f_train = df_f_train.reset_index(drop = True)\n",
    "df_f_val = df_f_val.reset_index(drop = True)\n",
    "df_f_test = df_f_test.reset_index(drop = True)\n",
    "\n",
    "y_f_train = df_f_train.price.values\n",
    "y_f_val = df_f_val.price.values\n",
    "y_f_test = df_f_test.price.values\n",
    "\n",
    "target = ['price','above_average']\n",
    "\n",
    "df_f_train.drop(target, axis = 1, inplace=True)\n",
    "df_f_val.drop(target, axis = 1, inplace=True)\n",
    "df_f_test.drop(target, axis = 1, inplace=True)\n",
    "\n",
    "dv = DictVectorizer(sparse=False)\n",
    "train_dict = df_f_train.to_dict(orient='records')\n",
    "X_f_train  = dv.fit_transform(train_dict)\n",
    "val_dict = df_f_val.to_dict(orient='records')\n",
    "X_f_val = dv.transform(val_dict)"
   ]
  },
  {
   "cell_type": "code",
   "execution_count": 170,
   "id": "9460bafb-46f1-4984-8f96-0db9d4f7a4fb",
   "metadata": {
    "tags": []
   },
   "outputs": [],
   "source": [
    "def linearregridge (df, alpha_value):  \n",
    "    model = Ridge(alpha= alpha_value, random_state=42)\n",
    "    model.fit(X_f_train,y_f_train)\n",
    "    y_f_pred = model.predict(X_f_val)\n",
    "    rmse = mean_squared_error(y_f_val, y_f_pred, squared=False)\n",
    "    print('If alpha is {} then RMSE is :'.format(alpha_value),round(rmse,4))"
   ]
  },
  {
   "cell_type": "code",
   "execution_count": 171,
   "id": "c3f0aad0-b983-4a2c-be45-18d54510d98d",
   "metadata": {
    "tags": []
   },
   "outputs": [
    {
     "name": "stdout",
     "output_type": "stream",
     "text": [
      "If alpha is 0 then RMSE is : 0.4971\n",
      "If alpha is 0.01 then RMSE is : 0.4971\n",
      "If alpha is 0.1 then RMSE is : 0.4971\n",
      "If alpha is 1 then RMSE is : 0.4971\n",
      "If alpha is 10 then RMSE is : 0.4979\n"
     ]
    },
    {
     "name": "stderr",
     "output_type": "stream",
     "text": [
      "c:\\python\\lib\\site-packages\\sklearn\\linear_model\\_ridge.py:147: LinAlgWarning: Ill-conditioned matrix (rcond=4.74051e-21): result may not be accurate.\n",
      "  return linalg.solve(A, Xy, sym_pos=True,\n"
     ]
    }
   ],
   "source": [
    "for al in alpha:\n",
    "    linearregridge(df,al)"
   ]
  },
  {
   "cell_type": "markdown",
   "id": "00ea5007-44e1-4d46-ae51-435ebcf5e02b",
   "metadata": {},
   "source": [
    "## Submit the results\n",
    "\n",
    "Submit your results here: https://forms.gle/xGpZhoq9Efm9E4RA9\n",
    "\n",
    "It's possible that your answers won't match exactly. If it's the case, select the closest one.\n",
    "\n",
    "\n",
    "## Deadline\n",
    "\n",
    "The deadline for submitting is 27 September 2021, 17:00 CET. After that, the form will be closed.\n",
    "\n",
    "\n",
    "## Nagivation\n",
    "\n",
    "* [Machine Learning Zoomcamp course](../)\n",
    "* [Session 3: Machine Learning for Classification](./)\n",
    "* Previous: [Explore more](14-explore-more.md)"
   ]
  }
 ],
 "metadata": {
  "kernelspec": {
   "display_name": "Python 3",
   "language": "python",
   "name": "python3"
  },
  "language_info": {
   "codemirror_mode": {
    "name": "ipython",
    "version": 3
   },
   "file_extension": ".py",
   "mimetype": "text/x-python",
   "name": "python",
   "nbconvert_exporter": "python",
   "pygments_lexer": "ipython3",
   "version": "3.9.5"
  }
 },
 "nbformat": 4,
 "nbformat_minor": 5
}

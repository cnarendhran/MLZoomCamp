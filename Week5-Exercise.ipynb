{
 "cells": [
  {
   "cell_type": "markdown",
   "id": "402e0fa2-5b3d-435e-9c17-43b75a146929",
   "metadata": {},
   "source": []
  },
  {
   "cell_type": "markdown",
   "id": "bd9f9685-4680-464f-9f74-f5956544d702",
   "metadata": {},
   "source": [
    "## 5.10 Homework\n",
    "\n",
    "In this homework, we'll use the churn prediction model trained on a smaller set of features."
   ]
  },
  {
   "cell_type": "markdown",
   "id": "d067ab28-0446-465c-8575-f02695896e40",
   "metadata": {},
   "source": [
    "## Question 1\n",
    "\n",
    "* Install Pipenv\n",
    "* What's the version of pipenv you installed?\n",
    "* Use `--version` to find out\n",
    "\n",
    "### Answer: 2021.5.29"
   ]
  },
  {
   "cell_type": "code",
   "execution_count": null,
   "id": "9fa01619-8bed-4e6e-8a29-d96ab9731fb6",
   "metadata": {},
   "outputs": [],
   "source": [
    "pipenv --version"
   ]
  },
  {
   "cell_type": "markdown",
   "id": "e7e9a8a1-92e4-47c7-b135-2ddbcbf00e65",
   "metadata": {},
   "source": [
    "## Question 2\n",
    "\n",
    "* Use Pipenv to install Scikit-Learn version 1.0\n",
    "* What's the first hash for scikit-learn you get in Pipfile.lock? "
   ]
  },
  {
   "cell_type": "markdown",
   "id": "be4ce52c-9634-45e7-ad11-1f4b4aa729a4",
   "metadata": {},
   "source": [
    "### Answer : 121f78d6564000dc5e968394f45aac87981fcaaf2be40cfcd8f07b2baa1e1829"
   ]
  },
  {
   "cell_type": "markdown",
   "id": "238e87cd-5026-4524-8539-46cf6870c830",
   "metadata": {},
   "source": [
    "## Models\n",
    "\n",
    "We've prepared a dictionary vectorizer and a model.\n",
    "\n",
    "They were trained (roughly) using this code:\n",
    "\n",
    "```\n",
    "features = ['tenure', 'monthlycharges', 'contract']\n",
    "dicts = df[features].to_dict(orient='records')\n",
    "\n",
    "dv = DictVectorizer(sparse=False)\n",
    "X = dv.fit_transform(dicts)\n",
    "\n",
    "model = LogisticRegression().fit(X, y)\n",
    "```\n",
    "\n",
    "> **Note**: You don't need to train the model. This code is just for your reference.\n",
    "\n",
    "And then saved with Pickle. Download them:\n",
    "\n",
    "* [DictVectorizer](https://github.com/alexeygrigorev/mlbookcamp-code/blob/master/course-zoomcamp/05-deployment/homework/dv.bin?raw=true)\n",
    "* [LogisticRegression](https://github.com/alexeygrigorev/mlbookcamp-code/blob/master/course-zoomcamp/05-deployment/homework/model1.bin?raw=true)\n",
    "\n",
    "With wget:\n",
    "\n",
    "```bash\n",
    "PREFIX=https://raw.githubusercontent.com/alexeygrigorev/mlbookcamp-code/master/course-zoomcamp/05-deployment/homework\n",
    "wget $PREFIX/model1.bin\n",
    "wget $PREFIX/dv.bin\n",
    "```"
   ]
  },
  {
   "cell_type": "markdown",
   "id": "f14ffd06-7f64-4e20-af5e-fa6b54caad47",
   "metadata": {},
   "source": [
    "## Question 3\n",
    "\n",
    "Let's use these models!\n",
    "\n",
    "* Write a script for loading these models with pickle\n",
    "* Score this customer:\n",
    "\n",
    "```json\n",
    "{\"contract\": \"two_year\", \"tenure\": 12, \"monthlycharges\": 19.7}\n",
    "```\n",
    "\n",
    "What's the probability that this customer is churning? \n",
    "\n",
    "If you're getting errors when unpickling the files, check their checksum:\n",
    "\n",
    "```bash\n",
    "$ md5sum model1.bin dv.bin\n",
    "5868e129bfbb309ba60bf750263afab1  model1.bin\n",
    "c49b69f8a5a3c560882ff5daa3c0ff4d  dv.bin\n",
    "```\n",
    "\n",
    "### Answer : 0.11549580587832914\n",
    "While trying created a seperate file and executed it."
   ]
  },
  {
   "cell_type": "code",
   "execution_count": null,
   "id": "babbb181-0b9d-4767-8ff6-46e1b1c7fd5f",
   "metadata": {},
   "outputs": [],
   "source": [
    "import pickle\n",
    "\n",
    "with open('dv.bin','rb') as f_dv_in:\n",
    "    dv=pickle.load(f_dv_in)\n",
    "    \n",
    "\n",
    "with open('model1.bin','rb') as f_mdl_in:\n",
    "    model=pickle.load(f_mdl_in)\n",
    "\n",
    "customer={\"contract\": \"two_year\", \"tenure\": 12, \"monthlycharges\": 19.7}\n",
    "\n",
    "X=dv.transform([customer])\n",
    "\n",
    "model.predict_proba(X)[0,1]"
   ]
  },
  {
   "cell_type": "markdown",
   "id": "2bcf21bd-920d-4790-a4a8-246e47aa7ffe",
   "metadata": {},
   "source": [
    "## Question 4\n",
    "\n",
    "Now let's serve this model as a web service\n",
    "\n",
    "* Install Flask and Gunicorn (or waitress, if you're on Windows)\n",
    "* Write Flask code for serving the model\n",
    "* Now score this customer using `requests`:\n",
    "\n",
    "```python\n",
    "url = \"YOUR_URL\"\n",
    "customer = {\"contract\": \"two_year\", \"tenure\": 1, \"monthlycharges\": 10}\n",
    "requests.post(url, json=customer).json()\n",
    "```\n",
    "\n",
    "What's the probability that this customer is churning?\n",
    "### Answer : {'churn': True, 'churn_probability': 0.9988892771007961}\n",
    "While trying created a seperate file and executed it."
   ]
  },
  {
   "cell_type": "code",
   "execution_count": null,
   "id": "0399da63-7d7f-4f63-816a-4d940075bc25",
   "metadata": {},
   "outputs": [],
   "source": [
    "from flask import Flask, request, jsonify\n",
    "\n",
    "app=Flask('churn')\n",
    "\n",
    "@app.route('/test',methods=['POST'])\n",
    "\n",
    "def predict():\n",
    "    customer=request.get_json()\n",
    "    X = dv.transform([customer])\n",
    "    y_pred = model.predict_proba(X)[0,1]\n",
    "    churn=y_pred>=0.5\n",
    "    result={ 'churn_probability': float(y_pred), 'churn': bool(churn) }\n",
    "    return jsonify(result)\n",
    "\n",
    "if __name__==\"__main__\":\n",
    "    app.run(debug=True, host='0.0.0.0', port=9096,use_reloader=False)"
   ]
  },
  {
   "cell_type": "code",
   "execution_count": null,
   "id": "d61ed6a8-4eb4-430b-8b40-aeeb5e046da9",
   "metadata": {},
   "outputs": [],
   "source": [
    "import requests\n",
    "url='http://localhost:9096/predict'\n",
    "customer = {\"contract\": \"two_year\", \"tenure\": 1, \"monthlycharges\": 10}\n",
    "requests.post(url, json=customer).json()"
   ]
  },
  {
   "cell_type": "markdown",
   "id": "6f9c44c0-a1ca-4ead-a9f5-2799446f9758",
   "metadata": {},
   "source": [
    "## Docker\n",
    "\n",
    "Install [Docker](06-docker.md). We will use it for the next two questions.\n",
    "\n",
    "For these questions, I prepared a base image: `agrigorev/zoomcamp-model:3.8.12-slim`. \n",
    "You'll need to use it (see Question 5 for an example).\n",
    "\n",
    "This image is based on `python:3.8.12-slim` and has a logistic regression model \n",
    "(a different one) as well a dictionary vectorizer inside. \n",
    "\n",
    "This is how the Dockerfile for this image looks like:\n",
    "\n",
    "```docker \n",
    "FROM python:3.8.12-slim\n",
    "WORKDIR /app\n",
    "COPY [\"model2.bin\", \"dv.bin\", \"./\"]\n",
    "```\n",
    "\n",
    "I already built it and then pushed it to [`agrigorev/zoomcamp-model:3.8.12-slim`](https://hub.docker.com/r/agrigorev/zoomcamp-model).\n",
    "\n",
    "> **Note**: You don't need to build this docker image, it's just for your reference."
   ]
  },
  {
   "cell_type": "markdown",
   "id": "3df75d6e-e39c-4a6e-8f5a-984b75c63a20",
   "metadata": {},
   "source": [
    "## Question 5\n",
    "\n",
    "Now create your own Dockerfile based on the image I prepared.\n",
    "\n",
    "It should start like that:\n",
    "\n",
    "```docker\n",
    "FROM agrigorev/zoomcamp-model:3.8.12-slim\n",
    "# add your stuff here\n",
    "```\n",
    "\n",
    "Now complete it:\n",
    "\n",
    "* Install all the dependencies form the Pipenv file\n",
    "* Copy your Flask script\n",
    "* Run it with gunicorn \n",
    "\n",
    "\n",
    "When you build your image, what's the image id for `agrigorev/zoomcamp-model:3.8.12-slim`?\n",
    "\n",
    "Look at the first step of your build log. It should look something like that:\n",
    "\n",
    "```\n",
    "$ docker some-command-for-building\n",
    "Sending build context to Docker daemon  2.048kB\n",
    "Step 1/N : FROM agrigorev/zoomcamp-model:3.8.12-slim\n",
    " ---> XXXXXXXXXXXX\n",
    "Step 2/N : ....\n",
    "```\n",
    "\n",
    "You need this `XXXXXXXXXXXX`.\n",
    "\n",
    "Alternatively, you can get this information when running `docker images` - it'll be in the \"IMAGE ID\" column.\n",
    "Submitting DIGEST (long string starting with \"sha256\") is also fine."
   ]
  },
  {
   "cell_type": "markdown",
   "id": "8d51b5d5-6130-4fb2-a5e1-bdeba3d095c2",
   "metadata": {},
   "source": [
    "### Answer: sha256:02d4fd53bfaf744018213731f34ca17c9e996c23a6e1680fb1ec4ae33731aad5"
   ]
  },
  {
   "cell_type": "markdown",
   "id": "06c48b6d-81fd-4942-92a1-6ef377be2e91",
   "metadata": {},
   "source": [
    "## Question 6\n",
    "\n",
    "Let's run your docker container!\n",
    "\n",
    "After running it, score this customer:\n",
    "\n",
    "```python\n",
    "url = \"YOUR_URL\"\n",
    "customer = {\"contract\": \"two_year\", \"tenure\": 12, \"monthlycharges\": 10}\n",
    "requests.post(url, json=customer).json()\n",
    "```\n",
    "\n",
    "What's the probability that this customer is churning?\n",
    "### Answer:0.7284944888182928"
   ]
  },
  {
   "cell_type": "code",
   "execution_count": null,
   "id": "46b115b6-85c9-46cf-b1f6-bbb89a9cf499",
   "metadata": {},
   "outputs": [],
   "source": [
    "url = \"http://localhost:9696/predict\"\n",
    "customer = {\"contract\": \"two_year\", \"tenure\": 12, \"monthlycharges\": 10}\n",
    "requests.post(url, json=customer).json()"
   ]
  },
  {
   "cell_type": "markdown",
   "id": "011af9df-c094-4517-ad00-9e275b61966a",
   "metadata": {},
   "source": [
    "## Submit the results\n",
    "\n",
    "Submit your results here: https://forms.gle/R5v85JBbQ4qgbisv7\n",
    "\n",
    "It's possible that your answers won't match exactly. If it's the case, select the closest one."
   ]
  },
  {
   "cell_type": "markdown",
   "id": "0de1bf82-baa1-409b-accc-e980dce98c1c",
   "metadata": {},
   "source": [
    "## Deadline\n",
    "\n",
    "The deadline for submitting is 11 October 2021, 17:00 CET. After that, the form will be closed.\n",
    "\n",
    "\n",
    "\n",
    "## Publishing to Docker hub\n",
    "\n",
    "This is just for reference, this is how I published an image to Docker hub:\n",
    "\n",
    "```bash\n",
    "docker build -t zoomcamp-test .\n",
    "docker tag zoomcamp-test:latest  agrigorev/zoomcamp-model:3.8.12-slim\n",
    "docker push agrigorev/zoomcamp-model:3.8.12-slim\n",
    "```\n",
    "\n",
    "## Nagivation\n",
    "\n",
    "* [Machine Learning Zoomcamp course](../)\n",
    "* [Session 5: Deploying Machine Learning Models](./)\n",
    "* Previous: [Explore more](09-explore-more.md)"
   ]
  }
 ],
 "metadata": {
  "kernelspec": {
   "display_name": "Python 3",
   "language": "python",
   "name": "python3"
  },
  "language_info": {
   "codemirror_mode": {
    "name": "ipython",
    "version": 3
   },
   "file_extension": ".py",
   "mimetype": "text/x-python",
   "name": "python",
   "nbconvert_exporter": "python",
   "pygments_lexer": "ipython3",
   "version": "3.9.5"
  }
 },
 "nbformat": 4,
 "nbformat_minor": 5
}

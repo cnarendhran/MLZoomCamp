{
 "cells": [
  {
   "cell_type": "markdown",
   "id": "be4b10e7-4564-46ae-8585-c267d4d4e3a8",
   "metadata": {},
   "source": [
    "## 6.10 Homework\n",
    "\n",
    "The goal of this homework is to create a tree-based regression model for prediction apartment prices (column `'price'`).\n",
    "\n",
    "In this homework we'll again use the New York City Airbnb Open Data dataset - the same one we used in homework 2 and 3.\n",
    "\n",
    "You can take it from [Kaggle](https://www.kaggle.com/dgomonov/new-york-city-airbnb-open-data?select=AB_NYC_2019.csv)\n",
    "or download from [here](https://raw.githubusercontent.com/alexeygrigorev/datasets/master/AB_NYC_2019.csv)\n",
    "if you don't want to sign up to Kaggle.\n",
    "\n",
    "\n",
    "For this homework, we prepared a [starter notebook](homework-6-starter.ipynb). "
   ]
  },
  {
   "cell_type": "markdown",
   "id": "c2ca1473-9361-40c9-8a89-4b93b9da863a",
   "metadata": {},
   "source": [
    "## Loading the data\n",
    "\n",
    "* Use only the following columns:\n",
    "    * `'neighbourhood_group',`\n",
    "    * `'room_type',`\n",
    "    * `'latitude',`\n",
    "    * `'longitude',`\n",
    "    * `'minimum_nights',`\n",
    "    * `'number_of_reviews','reviews_per_month',`\n",
    "    * `'calculated_host_listings_count',`\n",
    "    * `'availability_365',`\n",
    "    * `'price'`\n",
    "* Fill NAs with 0\n",
    "* Apply the log tranform to `price`\n",
    "* Do train/validation/test split with 60%/20%/20% distribution. \n",
    "* Use the `train_test_split` function and set the `random_state` parameter to 1\n",
    "* Use `DictVectorizer` to turn the dataframe into matrices"
   ]
  },
  {
   "cell_type": "code",
   "execution_count": 1,
   "id": "f273c3ae-a8de-4ffe-8287-566f7b804d05",
   "metadata": {},
   "outputs": [],
   "source": [
    "import pandas as pd\n",
    "import numpy as np\n",
    "\n",
    "import matplotlib.pyplot as plt\n",
    "import seaborn as sns\n",
    "\n",
    "%matplotlib inline"
   ]
  },
  {
   "cell_type": "code",
   "execution_count": 2,
   "id": "e0ed6608-acd9-4fb9-9455-bee4a2d92b6e",
   "metadata": {},
   "outputs": [],
   "source": [
    "columns = [\n",
    "    'neighbourhood_group', 'room_type', 'latitude', 'longitude',\n",
    "    'minimum_nights', 'number_of_reviews','reviews_per_month',\n",
    "    'calculated_host_listings_count', 'availability_365',\n",
    "    'price'\n",
    "]\n",
    "\n",
    "df = pd.read_csv('https://raw.githubusercontent.com/alexeygrigorev/datasets/master/AB_NYC_2019.csv', usecols=columns)"
   ]
  },
  {
   "cell_type": "code",
   "execution_count": 3,
   "id": "21293e10-ea15-4ecf-88f4-e9746b59d6ea",
   "metadata": {},
   "outputs": [],
   "source": [
    "df.reviews_per_month = df.reviews_per_month.fillna(0)"
   ]
  },
  {
   "cell_type": "code",
   "execution_count": 4,
   "id": "ef236fde-ac0f-4cce-b475-ec0c015fa28a",
   "metadata": {},
   "outputs": [
    {
     "data": {
      "text/plain": [
       "<AxesSubplot:>"
      ]
     },
     "execution_count": 4,
     "metadata": {},
     "output_type": "execute_result"
    },
    {
     "data": {
      "image/png": "[encoded data removed]",
      "text/plain": [
       "<Figure size 432x288 with 1 Axes>"
      ]
     },
     "metadata": {
      "needs_background": "light"
     },
     "output_type": "display_data"
    }
   ],
   "source": [
    "df[\"price\"].plot()"
   ]
  },
  {
   "cell_type": "code",
   "execution_count": 5,
   "id": "698299b7-2d20-4bc8-a102-95f57d2d2731",
   "metadata": {},
   "outputs": [
    {
     "data": {
      "text/plain": [
       "<AxesSubplot:>"
      ]
     },
     "execution_count": 5,
     "metadata": {},
     "output_type": "execute_result"
    },
    {
     "data": {
      "image/png": "[encoded data removed]",
      "text/plain": [
       "<Figure size 432x288 with 1 Axes>"
      ]
     },
     "metadata": {
      "needs_background": "light"
     },
     "output_type": "display_data"
    }
   ],
   "source": [
    "np.log1p(df[\"price\"]).plot()"
   ]
  },
  {
   "cell_type": "code",
   "execution_count": 6,
   "id": "3ce692a4-41a9-42a2-a0b0-f96099f87b83",
   "metadata": {},
   "outputs": [],
   "source": [
    "df['price'] = np.log1p(df[\"price\"])"
   ]
  },
  {
   "cell_type": "code",
   "execution_count": 7,
   "id": "5ccb1d07-647c-4e50-b1d3-314af0928b60",
   "metadata": {},
   "outputs": [],
   "source": [
    "from sklearn.model_selection import train_test_split\n",
    "\n",
    "df_full_train, df_test = train_test_split(df, test_size=0.2, random_state=1)\n",
    "df_train, df_val = train_test_split(df_full_train, test_size=0.25, random_state=1)\n",
    "\n",
    "df_train = df_train.reset_index(drop=True)\n",
    "df_val = df_val.reset_index(drop=True)\n",
    "df_test = df_test.reset_index(drop=True)\n",
    "\n",
    "y_train = df_train.price.values\n",
    "y_val = df_val.price.values\n",
    "y_test = df_test.price.values\n",
    "\n",
    "del df_train['price']\n",
    "del df_val['price']\n",
    "del df_test['price']"
   ]
  },
  {
   "cell_type": "code",
   "execution_count": 9,
   "id": "5dd9e7b7-90ee-43dd-b942-33fcc508582f",
   "metadata": {},
   "outputs": [
    {
     "data": {
      "text/plain": [
       "((29337, 9), (9779, 9), (9779, 9))"
      ]
     },
     "execution_count": 9,
     "metadata": {},
     "output_type": "execute_result"
    }
   ],
   "source": [
    "df_train.shape, df_val.shape, df_test.shape"
   ]
  },
  {
   "cell_type": "code",
   "execution_count": 10,
   "id": "75cabfe0-1b11-4018-b576-4ed8f83e70d1",
   "metadata": {},
   "outputs": [
    {
     "data": {
      "text/plain": [
       "((29337,), (9779,), (9779,))"
      ]
     },
     "execution_count": 10,
     "metadata": {},
     "output_type": "execute_result"
    }
   ],
   "source": [
    "(y_train.shape, y_val.shape, y_test.shape)"
   ]
  },
  {
   "cell_type": "code",
   "execution_count": 11,
   "id": "4a05676c-7a75-4257-9531-3454808b491a",
   "metadata": {},
   "outputs": [],
   "source": [
    "from sklearn.feature_extraction import DictVectorizer\n",
    "dv = DictVectorizer(sparse=False)\n",
    "\n",
    "train_dicts = df_train.to_dict(orient='records')\n",
    "X_train = dv.fit_transform(train_dicts)\n",
    "\n",
    "val_dicts = df_val.to_dict(orient='records')\n",
    "X_val = dv.transform(val_dicts)"
   ]
  },
  {
   "cell_type": "markdown",
   "id": "af96c647-61e4-44b1-be26-2b209e470b90",
   "metadata": {},
   "source": [
    "## Question 1\n",
    "\n",
    "Let's train a decision tree regressor to predict the price variable. \n",
    "\n",
    "* Train a model with `max_depth=1`\n",
    "\n",
    "\n",
    "Which feature is used for splitting the data?\n",
    "\n",
    "* `room_type`\n",
    "* `neighbourhood_group`\n",
    "* `number_of_reviews`\n",
    "* `reviews_per_month`"
   ]
  },
  {
   "cell_type": "code",
   "execution_count": 12,
   "id": "15c58ebe-bb3c-467a-9a61-03699b30a0a2",
   "metadata": {},
   "outputs": [
    {
     "data": {
      "text/plain": [
       "DecisionTreeRegressor(max_depth=1)"
      ]
     },
     "execution_count": 12,
     "metadata": {},
     "output_type": "execute_result"
    }
   ],
   "source": [
    "from sklearn.tree import DecisionTreeRegressor\n",
    "\n",
    "dt = DecisionTreeRegressor(max_depth=1)\n",
    "dt.fit(X_train, y_train)"
   ]
  },
  {
   "cell_type": "code",
   "execution_count": 13,
   "id": "bec1c9fe-9716-4517-a9e1-11574ba9b9b8",
   "metadata": {},
   "outputs": [
    {
     "name": "stdout",
     "output_type": "stream",
     "text": [
      "|--- room_type=Entire home/apt <= 0.50\n",
      "|   |--- value: [4.29]\n",
      "|--- room_type=Entire home/apt >  0.50\n",
      "|   |--- value: [5.15]\n",
      "\n"
     ]
    }
   ],
   "source": [
    "from sklearn.tree import export_text\n",
    "\n",
    "print(export_text(dt, feature_names = dv.get_feature_names()))"
   ]
  },
  {
   "cell_type": "markdown",
   "id": "01ecadfc-af97-4ea5-b5f9-c1aa84db001e",
   "metadata": {},
   "source": [
    "## Question 2\n",
    "\n",
    "Train a random forest model with these parameters:\n",
    "\n",
    "* `n_estimators=10`\n",
    "* `random_state=1`\n",
    "* `n_jobs=-1`  (optional - to make training faster)\n",
    "\n",
    "\n",
    "What's the RMSE of this model on validation?\n",
    "\n",
    "* 0.059\n",
    "* 0.259\n",
    "* 0.459\n",
    "* 0.659"
   ]
  },
  {
   "cell_type": "code",
   "execution_count": 17,
   "id": "4bca4b41-efe5-4df3-b50b-b1c2a4d3c3b0",
   "metadata": {},
   "outputs": [
    {
     "data": {
      "text/plain": [
       "RandomForestRegressor(n_estimators=10, n_jobs=-1, random_state=1)"
      ]
     },
     "execution_count": 17,
     "metadata": {},
     "output_type": "execute_result"
    }
   ],
   "source": [
    "from sklearn.ensemble import RandomForestRegressor\n",
    "from sklearn.metrics import mean_squared_error\n",
    "\n",
    "rfr = RandomForestRegressor(n_estimators=10, random_state=1, n_jobs=-1)\n",
    "rfr.fit(X_train, y_train)"
   ]
  },
  {
   "cell_type": "code",
   "execution_count": 15,
   "id": "2561a270-81b8-4eb9-9480-ac1d81e18411",
   "metadata": {},
   "outputs": [],
   "source": [
    "y_pred = rfr.predict(X_train)"
   ]
  },
  {
   "cell_type": "code",
   "execution_count": 18,
   "id": "b8f35e44-c9a3-4257-8771-6b1f2d176a68",
   "metadata": {},
   "outputs": [
    {
     "data": {
      "text/plain": [
       "0.4615632303514057"
      ]
     },
     "execution_count": 18,
     "metadata": {},
     "output_type": "execute_result"
    }
   ],
   "source": [
    "y_pred = rfr.predict(X_val)\n",
    "\n",
    "score = mean_squared_error(y_pred, y_val, squared=False)\n",
    "score"
   ]
  },
  {
   "cell_type": "markdown",
   "id": "87bf0d4e-d518-4d88-a63b-c26d186d384b",
   "metadata": {},
   "source": [
    "## Question 3\n",
    "\n",
    "Now let's experiment with the `n_estimators` parameter\n",
    "\n",
    "* Try different values of this parameter from 10 to 200 with step 10\n",
    "* Set `random_state` to `1`\n",
    "* Evaluate the model on the validation dataset\n",
    "\n",
    "\n",
    "After which value of `n_estimators` does RMSE stop improving?\n",
    "\n",
    "- 10\n",
    "- 50\n",
    "- 70\n",
    "- 120"
   ]
  },
  {
   "cell_type": "code",
   "execution_count": 19,
   "id": "91165fb2-a723-413f-9942-cae0762d7034",
   "metadata": {},
   "outputs": [
    {
     "data": {
      "text/plain": [
       "array([ 10.,  20.,  30.,  40.,  50.,  60.,  70.,  80.,  90., 100., 110.,\n",
       "       120., 130., 140., 150., 160., 170., 180., 190., 200.])"
      ]
     },
     "execution_count": 19,
     "metadata": {},
     "output_type": "execute_result"
    }
   ],
   "source": [
    "np.linspace(10, 200, 20)"
   ]
  },
  {
   "cell_type": "code",
   "execution_count": 40,
   "id": "9c8f1f56-0a0f-415c-bacc-0b6be92abc1e",
   "metadata": {},
   "outputs": [
    {
     "name": "stdout",
     "output_type": "stream",
     "text": [
      "When estimator is : 10 ,then the rmse : 0.4616 \n",
      "When estimator is : 20 ,then the rmse : 0.4482 \n",
      "When estimator is : 30 ,then the rmse : 0.4455 \n",
      "When estimator is : 40 ,then the rmse : 0.4436 \n",
      "When estimator is : 50 ,then the rmse : 0.4423 \n",
      "When estimator is : 60 ,then the rmse : 0.4416 \n",
      "When estimator is : 70 ,then the rmse : 0.4412 \n",
      "When estimator is : 80 ,then the rmse : 0.4411 \n",
      "When estimator is : 90 ,then the rmse : 0.4406 \n",
      "When estimator is : 100 ,then the rmse : 0.44 \n",
      "When estimator is : 110 ,then the rmse : 0.4395 \n",
      "When estimator is : 120 ,then the rmse : 0.4392 \n",
      "When estimator is : 130 ,then the rmse : 0.4393 \n",
      "When estimator is : 140 ,then the rmse : 0.439 \n",
      "When estimator is : 150 ,then the rmse : 0.4389 \n",
      "When estimator is : 160 ,then the rmse : 0.4387 \n",
      "When estimator is : 170 ,then the rmse : 0.4386 \n",
      "When estimator is : 180 ,then the rmse : 0.4388 \n",
      "When estimator is : 190 ,then the rmse : 0.4387 \n",
      "When estimator is : 200 ,then the rmse : 0.4388 \n"
     ]
    }
   ],
   "source": [
    "n_est = np.linspace(10, 200, 20,dtype=int)\n",
    "score = []\n",
    "for est in n_est:\n",
    "    rf = RandomForestRegressor(n_estimators=est, random_state=1, n_jobs=-1)\n",
    "    rf.fit(X_train, y_train)\n",
    "    \n",
    "    y_pred = rf.predict(X_val)\n",
    "    score.append(round(mean_squared_error(y_pred, y_val, squared=False),4))\n",
    "    print(\"When estimator is : {} ,then the rmse : {} \".format(est, round(mean_squared_error(y_pred, y_val, squared=False),4)))"
   ]
  },
  {
   "cell_type": "markdown",
   "id": "60d1bc22-ca95-4e2d-8eef-3cfd05138e05",
   "metadata": {},
   "source": [
    "## Question 4\n",
    "\n",
    "Let's select the best `max_depth`:\n",
    "\n",
    "* Try different values of `max_depth`: `[10, 15, 20, 25]`\n",
    "* For each of these values, try different values of `n_estimators` from 10 till 200 (with step 10)\n",
    "* Fix the random seed: `random_state=1`\n",
    "\n",
    "\n",
    "\n",
    "What's the best `max_depth`:\n",
    "\n",
    "* 10\n",
    "* 15\n",
    "* 20\n",
    "* 25"
   ]
  },
  {
   "cell_type": "code",
   "execution_count": 43,
   "id": "508bc646-32b4-450c-a50e-228e98c3ba4a",
   "metadata": {},
   "outputs": [
    {
     "name": "stdout",
     "output_type": "stream",
     "text": [
      "average RMSE for max_depth = 10 is 0.44059461928047217\n",
      "\n",
      "average RMSE for max_depth = 15 is 0.4378511760532405\n",
      "\n",
      "average RMSE for max_depth = 20 is 0.4402940199274069\n",
      "\n",
      "average RMSE for max_depth = 25 is 0.4415731348211728\n",
      "\n"
     ]
    }
   ],
   "source": [
    "for m in [10, 15, 20, 25]:\n",
    "  score = []\n",
    "  for n in np.linspace(10, 200, 20,dtype=int):\n",
    "    rfr = RandomForestRegressor(n_estimators=n, max_depth=m, random_state=1, n_jobs=-1)\n",
    "    rfr.fit(X_train, y_train)\n",
    "\n",
    "    y_pred = rfr.predict(X_val)\n",
    "\n",
    "    rmse = mean_squared_error(y_val, y_pred, squared=False)\n",
    "    score.append(rmse)\n",
    "  \n",
    "  print(\"average RMSE for max_depth = {} is {}\".format(m, (sum(score)/len(score))))\n",
    "  print(\"\")"
   ]
  },
  {
   "cell_type": "markdown",
   "id": "a687cb45-c600-4fa5-baf9-f7631f4369c8",
   "metadata": {},
   "source": [
    "## Question 5\n",
    "\n",
    "We can extract feature importance information from tree-based models. \n",
    "\n",
    "At each step of the decision tree learning algorith, it finds the best split. \n",
    "When doint it, we can calculate \"gain\" - the reduction in impurity before and after the split. \n",
    "This gain is quite useful in understanding what are the imporatant features \n",
    "for tree-based models.\n",
    "\n",
    "In Scikit-Learn, tree-based models contain this information in the\n",
    "[`feature_importances_`](https://scikit-learn.org/stable/modules/generated/sklearn.ensemble.RandomForestRegressor.html#sklearn.ensemble.RandomForestRegressor.feature_importances_)\n",
    "field. \n",
    "\n",
    "For this homework question, we'll find the most important feature:\n",
    "\n",
    "* Train the model with these parametes:\n",
    "    * `n_estimators=10`,\n",
    "    * `max_depth=20`,\n",
    "    * `random_state=1`,\n",
    "    * `n_jobs=-1` (optional)\n",
    "* Get the feature importance information from this model\n",
    "\n",
    "\n",
    "What's the most important feature? \n",
    "\n",
    "* `neighbourhood_group=Manhattan`\n",
    "* `room_type=Entire home/apt`\t\n",
    "* `longitude`\n",
    "* `latitude`"
   ]
  },
  {
   "cell_type": "code",
   "execution_count": 44,
   "id": "04929478-8bdc-41be-a574-030e68f275c7",
   "metadata": {},
   "outputs": [
    {
     "data": {
      "text/plain": [
       "RandomForestRegressor(max_depth=20, n_estimators=10, n_jobs=-1, random_state=1)"
      ]
     },
     "execution_count": 44,
     "metadata": {},
     "output_type": "execute_result"
    }
   ],
   "source": [
    "rfr = RandomForestRegressor(n_estimators=10, max_depth=20, random_state=1, n_jobs=-1)\n",
    "rfr.fit(X_train, y_train)"
   ]
  },
  {
   "cell_type": "code",
   "execution_count": 45,
   "id": "62bf8bfc-dd15-42c1-86b2-0f02d83d4a75",
   "metadata": {},
   "outputs": [
    {
     "data": {
      "text/plain": [
       "array([0.08, 0.03, 0.15, 0.15, 0.05, 0.  , 0.  , 0.03, 0.  , 0.  , 0.04,\n",
       "       0.05, 0.39, 0.  , 0.01])"
      ]
     },
     "execution_count": 45,
     "metadata": {},
     "output_type": "execute_result"
    }
   ],
   "source": [
    "rfr.feature_importances_.round(2)"
   ]
  },
  {
   "cell_type": "code",
   "execution_count": 46,
   "id": "72fe92d9-7d6d-4e2d-9337-302fe9958222",
   "metadata": {},
   "outputs": [
    {
     "data": {
      "text/plain": [
       "['availability_365',\n",
       " 'calculated_host_listings_count',\n",
       " 'latitude',\n",
       " 'longitude',\n",
       " 'minimum_nights',\n",
       " 'neighbourhood_group=Bronx',\n",
       " 'neighbourhood_group=Brooklyn',\n",
       " 'neighbourhood_group=Manhattan',\n",
       " 'neighbourhood_group=Queens',\n",
       " 'neighbourhood_group=Staten Island',\n",
       " 'number_of_reviews',\n",
       " 'reviews_per_month',\n",
       " 'room_type=Entire home/apt',\n",
       " 'room_type=Private room',\n",
       " 'room_type=Shared room']"
      ]
     },
     "execution_count": 46,
     "metadata": {},
     "output_type": "execute_result"
    }
   ],
   "source": [
    "dv.get_feature_names()"
   ]
  },
  {
   "cell_type": "code",
   "execution_count": 47,
   "id": "5763f0bf-2de5-4b98-b77c-ff386f988689",
   "metadata": {},
   "outputs": [
    {
     "name": "stdout",
     "output_type": "stream",
     "text": [
      "|--- room_type=Entire home/apt <= 0.50\n",
      "|   |--- ne\n"
     ]
    }
   ],
   "source": [
    "from sklearn.tree import export_text\n",
    "\n",
    "r = export_text(rfr.estimators_[0], feature_names=dv.get_feature_names())\n",
    "print(r[0:50])"
   ]
  },
  {
   "cell_type": "markdown",
   "id": "f6aa5771-916d-4801-8edd-0af7e2a305a6",
   "metadata": {},
   "source": [
    "## Question 6\n",
    "\n",
    "Now let's train an XGBoost model! For this question, we'll tune the `eta` parameter\n",
    "\n",
    "* Install XGBoost\n",
    "* Create DMatrix for train and validation\n",
    "* Create a watchlist\n",
    "* Train a model with these parameters for 100 rounds:\n",
    "\n",
    "```\n",
    "xgb_params = {\n",
    "    'eta': 0.3, \n",
    "    'max_depth': 6,\n",
    "    'min_child_weight': 1,\n",
    "    \n",
    "    'objective': 'reg:squarederror',\n",
    "    'nthread': 8,\n",
    "    \n",
    "    'seed': 1,\n",
    "    'verbosity': 1,\n",
    "}\n",
    "```\n",
    "\n",
    "Now change `eta` first to `0.1` and then to `0.01`\n",
    "\n",
    "Which eta leads to the best RMSE score on the validation dataset?\n",
    "\n",
    "* 0.3\n",
    "* 0.1\n",
    "* 0.01"
   ]
  },
  {
   "cell_type": "code",
   "execution_count": 48,
   "id": "2307d6d5-72be-4613-a6e0-c1573ac99232",
   "metadata": {},
   "outputs": [],
   "source": [
    "import xgboost as xgb"
   ]
  },
  {
   "cell_type": "code",
   "execution_count": 49,
   "id": "14166c34-6345-42a8-b861-9bd467abb1ed",
   "metadata": {},
   "outputs": [],
   "source": [
    "features = dv.get_feature_names()\n",
    "dtrain = xgb.DMatrix(X_train, label=y_train, feature_names=features)\n",
    "dval = xgb.DMatrix(X_val, label=y_val, feature_names=features)\n",
    "watchlist = [(dtrain, 'train'), (dval, 'val')]"
   ]
  },
  {
   "cell_type": "code",
   "execution_count": 50,
   "id": "4b9d43eb-4a6f-4d71-a68b-bc374a2e499f",
   "metadata": {},
   "outputs": [],
   "source": [
    "%%capture output\n",
    "xgb_params = {\n",
    "    'eta': 0.3, \n",
    "    'max_depth': 6,\n",
    "    'min_child_weight': 1,\n",
    "\n",
    "    'objective': 'reg:squarederror',\n",
    "    'nthread': 8,\n",
    "\n",
    "    'seed': 1,\n",
    "    'verbosity': 1,\n",
    "}\n",
    "\n",
    "model = xgb.train(xgb_params, dtrain, num_boost_round=100, evals=watchlist)\n",
    "\n",
    "y_pred = model.predict(dval)\n",
    "rmse = mean_squared_error(y_val, y_pred, squared=False)"
   ]
  },
  {
   "cell_type": "code",
   "execution_count": 51,
   "id": "1ab301b9-883c-429a-bc8d-430411c71750",
   "metadata": {},
   "outputs": [
    {
     "name": "stdout",
     "output_type": "stream",
     "text": [
      "RMSE for eta = 0.3 is 0.436210\n"
     ]
    }
   ],
   "source": [
    "print(\"RMSE for eta = 0.3 is {:f}\".format(rmse))"
   ]
  },
  {
   "cell_type": "code",
   "execution_count": 52,
   "id": "d29c756f-fb1f-413d-9dbb-4f116d92dfc4",
   "metadata": {},
   "outputs": [],
   "source": [
    "%%capture output\n",
    "xgb_params = {\n",
    "    'eta': 0.1, \n",
    "    'max_depth': 6,\n",
    "    'min_child_weight': 1,\n",
    "\n",
    "    'objective': 'reg:squarederror',\n",
    "    'nthread': 8,\n",
    "\n",
    "    'seed': 1,\n",
    "    'verbosity': 1,\n",
    "}\n",
    "\n",
    "model = xgb.train(xgb_params, dtrain, num_boost_round=100, evals=watchlist)\n",
    "\n",
    "y_pred = model.predict(dval)\n",
    "rmse = mean_squared_error(y_val, y_pred, squared=False)"
   ]
  },
  {
   "cell_type": "code",
   "execution_count": 53,
   "id": "03838baa-0542-40c4-acea-bbb7d1cadae1",
   "metadata": {},
   "outputs": [
    {
     "name": "stdout",
     "output_type": "stream",
     "text": [
      "RMSE for eta = 0.1 is 0.432497\n"
     ]
    }
   ],
   "source": [
    "print(\"RMSE for eta = 0.1 is {:f}\".format(rmse))"
   ]
  },
  {
   "cell_type": "code",
   "execution_count": 54,
   "id": "58873b3d-d01b-4425-9481-0e2f9fc4f8f0",
   "metadata": {},
   "outputs": [],
   "source": [
    "%%capture output\n",
    "xgb_params = {\n",
    "    'eta': 0.01, \n",
    "    'max_depth': 6,\n",
    "    'min_child_weight': 1,\n",
    "\n",
    "    'objective': 'reg:squarederror',\n",
    "    'nthread': 8,\n",
    "\n",
    "    'seed': 1,\n",
    "    'verbosity': 1,\n",
    "}\n",
    "\n",
    "model = xgb.train(xgb_params, dtrain, num_boost_round=100, evals=watchlist)\n",
    "\n",
    "y_pred = model.predict(dval)\n",
    "rmse = mean_squared_error(y_val, y_pred, squared=False)"
   ]
  },
  {
   "cell_type": "code",
   "execution_count": 55,
   "id": "d34423ad-34a3-4fc4-b264-a5e5b51f61ef",
   "metadata": {},
   "outputs": [
    {
     "name": "stdout",
     "output_type": "stream",
     "text": [
      "RMSE for eta = 0.01 is 1.630452\n"
     ]
    }
   ],
   "source": [
    "print(\"RMSE for eta = 0.01 is {:f}\".format(rmse))"
   ]
  },
  {
   "cell_type": "markdown",
   "id": "d9864542-bc56-41e4-9a7f-94bc93ca33e7",
   "metadata": {},
   "source": [
    "## Submit the results\n",
    "\n",
    "\n",
    "Submit your results here: https://forms.gle/wQgFkYE6CtdDed4w8\n",
    "\n",
    "It's possible that your answers won't match exactly. If it's the case, select the closest one."
   ]
  },
  {
   "cell_type": "markdown",
   "id": "20c552df-4f08-4df0-a23a-98621b34c2f1",
   "metadata": {},
   "source": [
    "## Deadline\n",
    "\n",
    "\n",
    "The deadline for submitting is 20 October 2021, 17:00 CET (Wednesday). After that, the form will be closed."
   ]
  },
  {
   "cell_type": "markdown",
   "id": "0907ba1d-a83a-45a4-b552-98f7fda0340b",
   "metadata": {},
   "source": [
    "## Nagivation\n",
    "\n",
    "* [Machine Learning Zoomcamp course](../)\n",
    "* [Session 6: Decision Trees and Ensemble Learning](./)\n",
    "* Previous: [Explore more](11-explore-more.md)"
   ]
  }
 ],
 "metadata": {
  "kernelspec": {
   "display_name": "Python 3",
   "language": "python",
   "name": "python3"
  },
  "language_info": {
   "codemirror_mode": {
    "name": "ipython",
    "version": 3
   },
   "file_extension": ".py",
   "mimetype": "text/x-python",
   "name": "python",
   "nbconvert_exporter": "python",
   "pygments_lexer": "ipython3",
   "version": "3.9.5"
  }
 },
 "nbformat": 4,
 "nbformat_minor": 5
}
